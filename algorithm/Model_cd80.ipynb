{
 "cells": [
  {
   "cell_type": "code",
   "execution_count": 79,
   "metadata": {},
   "outputs": [],
   "source": [
    "import pandas as pd\n",
    "from sklearn.preprocessing import KBinsDiscretizer\n",
    "from sklearn.preprocessing import OneHotEncoder\n",
    "import numpy as np\n",
    "from imblearn.over_sampling import SMOTE\n",
    "from imblearn.over_sampling import RandomOverSampler \n",
    "import pickle"
   ]
  },
  {
   "cell_type": "code",
   "execution_count": 4,
   "metadata": {},
   "outputs": [],
   "source": [
    "train = pd.read_csv(\"./trainning_data/label_risk_company.csv\")"
   ]
  },
  {
   "cell_type": "code",
   "execution_count": 5,
   "metadata": {},
   "outputs": [],
   "source": [
    "test = pd.read_csv(\"./test_data/test_data.csv\")"
   ]
  },
  {
   "cell_type": "code",
   "execution_count": 6,
   "metadata": {},
   "outputs": [],
   "source": [
    "base_info = pd.read_csv(\"./trainning_data/revised_attribute/company_base_info_new.csv\")"
   ]
  },
  {
   "cell_type": "code",
   "execution_count": 7,
   "metadata": {},
   "outputs": [],
   "source": [
    "base_info.to_csv(\"./trainning_data/revised_attribute/company_base_info_new.csv\",index=None)"
   ]
  },
  {
   "cell_type": "code",
   "execution_count": 8,
   "metadata": {},
   "outputs": [
    {
     "data": {
      "text/html": [
       "<div>\n",
       "<style scoped>\n",
       "    .dataframe tbody tr th:only-of-type {\n",
       "        vertical-align: middle;\n",
       "    }\n",
       "\n",
       "    .dataframe tbody tr th {\n",
       "        vertical-align: top;\n",
       "    }\n",
       "\n",
       "    .dataframe thead th {\n",
       "        text-align: right;\n",
       "    }\n",
       "</style>\n",
       "<table border=\"1\" class=\"dataframe\">\n",
       "  <thead>\n",
       "    <tr style=\"text-align: right;\">\n",
       "      <th></th>\n",
       "      <th>entid</th>\n",
       "      <th>web_dum</th>\n",
       "      <th>ENTTYPE</th>\n",
       "      <th>INDUSTRYPHY</th>\n",
       "      <th>REGCAP</th>\n",
       "      <th>REGCAPCUR</th>\n",
       "      <th>RECCAP</th>\n",
       "      <th>PARNUM</th>\n",
       "      <th>LIMPARNUM</th>\n",
       "      <th>EXENUM</th>\n",
       "      <th>cancel_dum</th>\n",
       "      <th>certificate_num</th>\n",
       "      <th>tax_dum</th>\n",
       "    </tr>\n",
       "  </thead>\n",
       "  <tbody>\n",
       "    <tr>\n",
       "      <th>0</th>\n",
       "      <td>122697049</td>\n",
       "      <td>1</td>\n",
       "      <td>10</td>\n",
       "      <td>9</td>\n",
       "      <td>8103057.4</td>\n",
       "      <td>156.0</td>\n",
       "      <td>4700000.0</td>\n",
       "      <td>0.0</td>\n",
       "      <td>0.0</td>\n",
       "      <td>0.0</td>\n",
       "      <td>0</td>\n",
       "      <td>4.0</td>\n",
       "      <td>0</td>\n",
       "    </tr>\n",
       "    <tr>\n",
       "      <th>1</th>\n",
       "      <td>959830672</td>\n",
       "      <td>1</td>\n",
       "      <td>5</td>\n",
       "      <td>11</td>\n",
       "      <td>38000.0</td>\n",
       "      <td>156.0</td>\n",
       "      <td>1000.0</td>\n",
       "      <td>0.0</td>\n",
       "      <td>0.0</td>\n",
       "      <td>0.0</td>\n",
       "      <td>0</td>\n",
       "      <td>2.0</td>\n",
       "      <td>0</td>\n",
       "    </tr>\n",
       "    <tr>\n",
       "      <th>2</th>\n",
       "      <td>564421968</td>\n",
       "      <td>0</td>\n",
       "      <td>8</td>\n",
       "      <td>12</td>\n",
       "      <td>5000.0</td>\n",
       "      <td>156.0</td>\n",
       "      <td>5000.0</td>\n",
       "      <td>0.0</td>\n",
       "      <td>0.0</td>\n",
       "      <td>0.0</td>\n",
       "      <td>1</td>\n",
       "      <td>0.0</td>\n",
       "      <td>0</td>\n",
       "    </tr>\n",
       "    <tr>\n",
       "      <th>3</th>\n",
       "      <td>620868429</td>\n",
       "      <td>0</td>\n",
       "      <td>8</td>\n",
       "      <td>9</td>\n",
       "      <td>10000.0</td>\n",
       "      <td>156.0</td>\n",
       "      <td>10000.0</td>\n",
       "      <td>0.0</td>\n",
       "      <td>0.0</td>\n",
       "      <td>0.0</td>\n",
       "      <td>0</td>\n",
       "      <td>0.0</td>\n",
       "      <td>0</td>\n",
       "    </tr>\n",
       "    <tr>\n",
       "      <th>4</th>\n",
       "      <td>1176966297</td>\n",
       "      <td>0</td>\n",
       "      <td>55</td>\n",
       "      <td>11</td>\n",
       "      <td>3000.0</td>\n",
       "      <td>156.0</td>\n",
       "      <td>3000.0</td>\n",
       "      <td>0.0</td>\n",
       "      <td>0.0</td>\n",
       "      <td>0.0</td>\n",
       "      <td>0</td>\n",
       "      <td>0.0</td>\n",
       "      <td>0</td>\n",
       "    </tr>\n",
       "  </tbody>\n",
       "</table>\n",
       "</div>"
      ],
      "text/plain": [
       "        entid  web_dum  ENTTYPE  INDUSTRYPHY     REGCAP REGCAPCUR     RECCAP  \\\n",
       "0   122697049        1       10            9  8103057.4     156.0  4700000.0   \n",
       "1   959830672        1        5           11    38000.0     156.0     1000.0   \n",
       "2   564421968        0        8           12     5000.0     156.0     5000.0   \n",
       "3   620868429        0        8            9    10000.0     156.0    10000.0   \n",
       "4  1176966297        0       55           11     3000.0     156.0     3000.0   \n",
       "\n",
       "   PARNUM  LIMPARNUM  EXENUM  cancel_dum  certificate_num  tax_dum  \n",
       "0     0.0        0.0     0.0           0              4.0        0  \n",
       "1     0.0        0.0     0.0           0              2.0        0  \n",
       "2     0.0        0.0     0.0           1              0.0        0  \n",
       "3     0.0        0.0     0.0           0              0.0        0  \n",
       "4     0.0        0.0     0.0           0              0.0        0  "
      ]
     },
     "execution_count": 8,
     "metadata": {},
     "output_type": "execute_result"
    }
   ],
   "source": [
    "base_info.head()"
   ]
  },
  {
   "cell_type": "code",
   "execution_count": 83,
   "metadata": {},
   "outputs": [],
   "source": [
    "with open(\"./tax_year_features_0.pkl\", 'rb') as fi:\n",
    "    tax_year_features = pickle.load(fi)"
   ]
  },
  {
   "cell_type": "code",
   "execution_count": 87,
   "metadata": {},
   "outputs": [],
   "source": [
    "base_info = pd.concat([base_info,tax_year_features],axis = 1)"
   ]
  },
  {
   "cell_type": "code",
   "execution_count": 88,
   "metadata": {},
   "outputs": [],
   "source": [
    "# auto_bin_features = [\"REGCAP\",\"RECCAP\",\"PARNUM\",\"LIMPARNUM\",\"EXENUM\",\"certificate_num\"]\n",
    "auto_bin_features = [\"REGCAP\",\"RECCAP\",\"PARNUM\",\"LIMPARNUM\",\"EXENUM\",\"certificate_num\",\n",
    "                     \"profit_loss\",\"profit_loss_history_percent\",\"profit_loss_asset\",\n",
    "                     \"revenue\",\"revenue_history_percent\",\"revenue_asset\",\n",
    "                     \"sales_tax\",\"sales_tax_history_percent\",\"sales_tax_asset\",\n",
    "                     \"investment_income\",\"investment_income_history_percent\",\"investment_income_asset\",\n",
    "                     \"main_business_income\",\"main_business_income_history_percent\",\"main_business_income_asset\",\n",
    "                     \"retained_profits\",\"retained_profits_history_percent\",\"retained_profits_asset\"]"
   ]
  },
  {
   "cell_type": "code",
   "execution_count": 89,
   "metadata": {},
   "outputs": [],
   "source": [
    "bin_features_head =  [ x + \"_bin\" for x in auto_bin_features]"
   ]
  },
  {
   "cell_type": "code",
   "execution_count": 96,
   "metadata": {},
   "outputs": [],
   "source": [
    "categrical_features = [\"web_dum\",\"ENTTYPE\",\"INDUSTRYPHY\",\"cancel_dum\",\"tax_dum\",\n",
    "                       \"profit_loss_history_more\",\"profit_loss_empty\",\n",
    "                       \"revenue_history_more\",\"revenue_empty\",\n",
    "                        \"sales_tax_history_more\",\"sales_tax_empty\",\n",
    "                        \"investment_income_history_more\",\"investment_income_empty\",\n",
    "                        \"main_business_income_history_more\",\"main_business_income_empty\",\n",
    "                        \"retained_profits_history_more\",\"retained_profits_empty\"]"
   ]
  },
  {
   "cell_type": "code",
   "execution_count": 91,
   "metadata": {},
   "outputs": [],
   "source": [
    "# 分箱\n",
    "Discretizer = KBinsDiscretizer(n_bins = 5,encode=\"ordinal\",strategy=\"kmeans\")\n",
    "# one_hot\n",
    "onehot_encoder = OneHotEncoder(categories = \"auto\", drop = \"first\", handle_unknown='error',sparse = False)"
   ]
  },
  {
   "cell_type": "code",
   "execution_count": 93,
   "metadata": {},
   "outputs": [],
   "source": [
    "Discretizer.fit(base_info[auto_bin_features])\n",
    "bin_categrical_features = Discretizer.transform(base_info[auto_bin_features])\n",
    "bin_categrical_features = pd.DataFrame(bin_categrical_features, columns = bin_features_head)"
   ]
  },
  {
   "cell_type": "code",
   "execution_count": 97,
   "metadata": {},
   "outputs": [],
   "source": [
    "all_cate_features = pd.concat([base_info[categrical_features], bin_categrical_features], axis = 1)"
   ]
  },
  {
   "cell_type": "code",
   "execution_count": 98,
   "metadata": {},
   "outputs": [],
   "source": [
    "onehot_encoder = OneHotEncoder(categories = \"auto\", drop = \"first\", handle_unknown='error',sparse = False)"
   ]
  },
  {
   "cell_type": "code",
   "execution_count": 99,
   "metadata": {},
   "outputs": [
    {
     "data": {
      "text/plain": [
       "OneHotEncoder(drop='first', sparse=False)"
      ]
     },
     "execution_count": 99,
     "metadata": {},
     "output_type": "execute_result"
    }
   ],
   "source": [
    "onehot_encoder.fit(all_cate_features)"
   ]
  },
  {
   "cell_type": "code",
   "execution_count": 100,
   "metadata": {},
   "outputs": [],
   "source": [
    "one_hot_features = onehot_encoder.transform(all_cate_features)"
   ]
  },
  {
   "cell_type": "code",
   "execution_count": 101,
   "metadata": {},
   "outputs": [],
   "source": [
    "train = pd.read_csv(\"./trainning_data/label_risk_company.csv\")\n",
    "train_id = set(train.entid)\n",
    "\n",
    "train_id_0 = set(train[train[\"CaseType\"] == 0].entid)\n",
    "train_id_1 = set(train[train[\"CaseType\"] == 1].entid)\n",
    "train_id_2 = set(train[train[\"CaseType\"] == 2].entid)\n",
    "train_id_3 = set(train[train[\"CaseType\"] == 3].entid)"
   ]
  },
  {
   "cell_type": "code",
   "execution_count": 102,
   "metadata": {},
   "outputs": [],
   "source": [
    "test =  pd.read_csv(\"./test_data/test_data.csv\")"
   ]
  },
  {
   "cell_type": "code",
   "execution_count": 103,
   "metadata": {},
   "outputs": [],
   "source": [
    "test_id = set(test.entid)"
   ]
  },
  {
   "cell_type": "code",
   "execution_count": 104,
   "metadata": {},
   "outputs": [],
   "source": [
    "Ys = np.zeros(len(base_info.entid))\n",
    "Ys = Ys - 1"
   ]
  },
  {
   "cell_type": "code",
   "execution_count": 105,
   "metadata": {},
   "outputs": [],
   "source": [
    "Ys[base_info[base_info.entid.isin(train_id_0)].index] = 0\n",
    "Ys[base_info[base_info.entid.isin(train_id_1)].index] = 1\n",
    "Ys[base_info[base_info.entid.isin(train_id_2)].index] = 2\n",
    "Ys[base_info[base_info.entid.isin(train_id_3)].index] = 3"
   ]
  },
  {
   "cell_type": "code",
   "execution_count": 106,
   "metadata": {},
   "outputs": [],
   "source": [
    "test_index = base_info[base_info.entid.isin(test_id)].index\n",
    "for i in range(len(Ys)):\n",
    "    if Ys[i] == -1:\n",
    "        if not i in test_index:\n",
    "            Ys[i] = 4\n",
    "            \n",
    "for i in range(len(Ys)):\n",
    "    if i in test_index:\n",
    "        Ys[i] = -1            \n"
   ]
  },
  {
   "cell_type": "code",
   "execution_count": 107,
   "metadata": {},
   "outputs": [],
   "source": [
    "Ys = pd.DataFrame(Ys)"
   ]
  },
  {
   "cell_type": "code",
   "execution_count": 108,
   "metadata": {},
   "outputs": [],
   "source": [
    "test_index = Ys[Ys[0] == -1].index"
   ]
  },
  {
   "cell_type": "code",
   "execution_count": 109,
   "metadata": {},
   "outputs": [],
   "source": [
    "train_index = Ys[Ys[0] != -1].index"
   ]
  },
  {
   "cell_type": "code",
   "execution_count": 110,
   "metadata": {},
   "outputs": [],
   "source": [
    "train_x = one_hot_features[train_index,:]\n",
    "train_y = Ys.iloc[train_index]"
   ]
  },
  {
   "cell_type": "code",
   "execution_count": 111,
   "metadata": {},
   "outputs": [],
   "source": [
    "from imblearn.over_sampling import RandomOverSampler "
   ]
  },
  {
   "cell_type": "code",
   "execution_count": 112,
   "metadata": {},
   "outputs": [
    {
     "ename": "NameError",
     "evalue": "name 'feature_cate' is not defined",
     "output_type": "error",
     "traceback": [
      "\u001b[0;31m---------------------------------------------------------------------------\u001b[0m",
      "\u001b[0;31mNameError\u001b[0m                                 Traceback (most recent call last)",
      "\u001b[0;32m<ipython-input-112-a03581bcc2e7>\u001b[0m in \u001b[0;36m<module>\u001b[0;34m\u001b[0m\n\u001b[1;32m      1\u001b[0m \u001b[0mid_list\u001b[0m \u001b[0;34m=\u001b[0m \u001b[0;34m[\u001b[0m\u001b[0;34m]\u001b[0m\u001b[0;34m\u001b[0m\u001b[0;34m\u001b[0m\u001b[0m\n\u001b[1;32m      2\u001b[0m \u001b[0mfeature\u001b[0m \u001b[0;34m=\u001b[0m \u001b[0;34m[\u001b[0m\u001b[0;34m]\u001b[0m\u001b[0;34m\u001b[0m\u001b[0;34m\u001b[0m\u001b[0m\n\u001b[0;32m----> 3\u001b[0;31m \u001b[0mfeature_cate\u001b[0m\u001b[0;34m,\u001b[0m \u001b[0mnumer\u001b[0m\u001b[0;34m\u001b[0m\u001b[0;34m\u001b[0m\u001b[0m\n\u001b[0m\u001b[1;32m      4\u001b[0m \u001b[0mfeature_dum_\u001b[0m\u001b[0;34m[\u001b[0m\u001b[0;36m0\u001b[0m\u001b[0;34m,\u001b[0m\u001b[0;36m1\u001b[0m\u001b[0;34m]\u001b[0m\u001b[0;34m\u001b[0m\u001b[0;34m\u001b[0m\u001b[0m\n\u001b[1;32m      5\u001b[0m \u001b[0;31m#\u001b[0m\u001b[0;34m\u001b[0m\u001b[0;34m\u001b[0m\u001b[0;34m\u001b[0m\u001b[0m\n",
      "\u001b[0;31mNameError\u001b[0m: name 'feature_cate' is not defined"
     ]
    }
   ],
   "source": [
    "id_list = []\n",
    "feature = []\n",
    "feature_cate, numer\n",
    "feature_dum_[0,1]\n",
    "#\n",
    "x_\n",
    "\n",
    "y_\n",
    "#\n",
    "numerical_columns_\n",
    "autobin(numerical_columns_)\n",
    "one(hot)\n",
    "#\n",
    "auto_balance(oversamplling)\n",
    "10-fold\n",
    "#\n",
    "\n"
   ]
  },
  {
   "cell_type": "code",
   "execution_count": 113,
   "metadata": {},
   "outputs": [],
   "source": [
    "OverSampler = RandomOverSampler()"
   ]
  },
  {
   "cell_type": "code",
   "execution_count": 114,
   "metadata": {},
   "outputs": [],
   "source": [
    "train_x_oversampled, train_y_oversampled = OverSampler.fit_resample(train_x, train_y)"
   ]
  },
  {
   "cell_type": "code",
   "execution_count": 115,
   "metadata": {},
   "outputs": [],
   "source": [
    "from sklearn.model_selection import cross_val_score\n",
    "from sklearn.ensemble import RandomForestClassifier\n",
    "from sklearn.model_selection import train_test_split\n",
    "from sklearn.metrics import f1_score, accuracy_score\n",
    "from sklearn import svm\n",
    "\n",
    "from sklearn.linear_model import SGDClassifier\n",
    "# sgd_clf = SGDClassifier(loss = \"hinge\",\n",
    "#                         penalty = \"L2\",\n",
    "#                         random_state=42,\n",
    "#                         verbose=1,\n",
    "#                         max_iter=50)\n",
    "\n",
    "# sgd_clf.fit(X_train,y_train)\n",
    "\n",
    "# y_pred = sgd_clf.predict(X_val)\n",
    "# accuracy_score(y_val, y_pred)\n",
    "# clf = RandomForestClassifier(max_depth=15, random_state=0)\n",
    "# scores = cross_val_score(clf, train_x_oversampled, train_y_oversampled[0], cv=10, scoring='accuracy')"
   ]
  },
  {
   "cell_type": "code",
   "execution_count": 117,
   "metadata": {
    "scrolled": true
   },
   "outputs": [
    {
     "name": "stdout",
     "output_type": "stream",
     "text": [
      "acc:0.87, f1:0.36\n",
      "acc:0.88, f1:0.37\n",
      "acc:0.87, f1:0.37\n",
      "acc:0.89, f1:0.39\n",
      "acc:0.87, f1:0.35\n",
      "acc:0.87, f1:0.36\n",
      "acc:0.87, f1:0.37\n",
      "acc:0.88, f1:0.37\n",
      "acc:0.87, f1:0.34\n",
      "acc:0.88, f1:0.39\n"
     ]
    }
   ],
   "source": [
    "fold = 10\n",
    "for i in range(fold):\n",
    "    X_train, X_eval, y_train, y_eval = train_test_split(train_x, train_y[0], test_size=0.2, random_state = i)\n",
    "    train_x_oversampled, train_y_oversampled = OverSampler.fit_resample(X_train, y_train)\n",
    "    clf = RandomForestClassifier(max_depth=20, random_state=0)\n",
    "\n",
    "    clf.fit(train_x_oversampled, train_y_oversampled)\n",
    "    y_eval_pred = clf.predict(X_eval)\n",
    "    f1 = f1_score(y_eval,y_eval_pred, average='macro')\n",
    "    acc = accuracy_score(y_eval, y_eval_pred)\n",
    "    print(\"acc:{:.2f}, f1:{:.2f}\".format(acc,f1))"
   ]
  },
  {
   "cell_type": "code",
   "execution_count": 69,
   "metadata": {},
   "outputs": [
    {
     "data": {
      "text/plain": [
       "array([[0.01004455, 0.03398503, 0.01293681, 0.02439112, 0.91864249],\n",
       "       [0.04150171, 0.04700341, 0.01541875, 0.04977112, 0.84630501],\n",
       "       [0.05304825, 0.09360142, 0.03321276, 0.07727025, 0.74286731],\n",
       "       ...,\n",
       "       [0.06902399, 0.08135951, 0.44717465, 0.36870291, 0.03373894],\n",
       "       [0.01067654, 0.03298445, 0.03246716, 0.06223548, 0.86163636],\n",
       "       [0.01524424, 0.09594071, 0.09738427, 0.07256466, 0.71886612]])"
      ]
     },
     "execution_count": 69,
     "metadata": {},
     "output_type": "execute_result"
    }
   ],
   "source": [
    "?RandomForestClassifier"
   ]
  },
  {
   "cell_type": "code",
   "execution_count": 62,
   "metadata": {},
   "outputs": [
    {
     "data": {
      "text/plain": [
       "4.0    1591\n",
       "0.0     344\n",
       "2.0     114\n",
       "3.0     104\n",
       "1.0      25\n",
       "dtype: int64"
      ]
     },
     "execution_count": 62,
     "metadata": {},
     "output_type": "execute_result"
    }
   ],
   "source": [
    "pd.Series(y_eval_pred).value_counts()"
   ]
  },
  {
   "cell_type": "code",
   "execution_count": 54,
   "metadata": {},
   "outputs": [
    {
     "data": {
      "text/plain": [
       "array([0.7081448 , 0.71538462, 0.70475113, 0.71447964, 0.71696833,\n",
       "       0.71418873, 0.72256167, 0.70445802, 0.72369314, 0.70988912])"
      ]
     },
     "execution_count": 54,
     "metadata": {},
     "output_type": "execute_result"
    }
   ],
   "source": [
    "scores"
   ]
  },
  {
   "cell_type": "code",
   "execution_count": null,
   "metadata": {},
   "outputs": [],
   "source": []
  }
 ],
 "metadata": {
  "kernelspec": {
   "display_name": "Python 3",
   "language": "python",
   "name": "python3"
  },
  "language_info": {
   "codemirror_mode": {
    "name": "ipython",
    "version": 3
   },
   "file_extension": ".py",
   "mimetype": "text/x-python",
   "name": "python",
   "nbconvert_exporter": "python",
   "pygments_lexer": "ipython3",
   "version": "3.7.6"
  }
 },
 "nbformat": 4,
 "nbformat_minor": 4
}
