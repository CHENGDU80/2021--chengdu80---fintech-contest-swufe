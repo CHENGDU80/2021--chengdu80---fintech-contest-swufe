{
 "cells": [
  {
   "cell_type": "code",
   "execution_count": 1,
   "metadata": {},
   "outputs": [],
   "source": [
    "import pandas as pd\n",
    "from sklearn.preprocessing import KBinsDiscretizer\n",
    "from sklearn.preprocessing import OneHotEncoder\n",
    "import numpy as np\n",
    "from imblearn.over_sampling import SMOTE\n",
    "from imblearn.over_sampling import RandomOverSampler \n",
    "import pickle\n",
    "from sklearn.metrics import classification_report\n",
    "from imblearn.over_sampling import RandomOverSampler \n",
    "from itertools import *"
   ]
  },
  {
   "cell_type": "code",
   "execution_count": 2,
   "metadata": {},
   "outputs": [],
   "source": [
    "train = pd.read_csv(\"./trainning_data/label_risk_company.csv\")"
   ]
  },
  {
   "cell_type": "code",
   "execution_count": 3,
   "metadata": {},
   "outputs": [],
   "source": [
    "test = pd.read_csv(\"./test_data/test_data.csv\")"
   ]
  },
  {
   "cell_type": "code",
   "execution_count": 4,
   "metadata": {},
   "outputs": [],
   "source": [
    "base_info = pd.read_csv(\"./trainning_data/revised_attribute/company_base_info_new.csv\")"
   ]
  },
  {
   "cell_type": "code",
   "execution_count": 5,
   "metadata": {},
   "outputs": [],
   "source": [
    "base_info.to_csv(\"./trainning_data/revised_attribute/company_base_info_new.csv\",index=None)"
   ]
  },
  {
   "cell_type": "code",
   "execution_count": 6,
   "metadata": {},
   "outputs": [
    {
     "data": {
      "text/html": [
       "<div>\n",
       "<style scoped>\n",
       "    .dataframe tbody tr th:only-of-type {\n",
       "        vertical-align: middle;\n",
       "    }\n",
       "\n",
       "    .dataframe tbody tr th {\n",
       "        vertical-align: top;\n",
       "    }\n",
       "\n",
       "    .dataframe thead th {\n",
       "        text-align: right;\n",
       "    }\n",
       "</style>\n",
       "<table border=\"1\" class=\"dataframe\">\n",
       "  <thead>\n",
       "    <tr style=\"text-align: right;\">\n",
       "      <th></th>\n",
       "      <th>entid</th>\n",
       "      <th>web_dum</th>\n",
       "      <th>ENTTYPE</th>\n",
       "      <th>INDUSTRYPHY</th>\n",
       "      <th>REGCAP</th>\n",
       "      <th>REGCAPCUR</th>\n",
       "      <th>RECCAP</th>\n",
       "      <th>PARNUM</th>\n",
       "      <th>LIMPARNUM</th>\n",
       "      <th>EXENUM</th>\n",
       "      <th>cancel_dum</th>\n",
       "      <th>certificate_num</th>\n",
       "      <th>tax_dum</th>\n",
       "    </tr>\n",
       "  </thead>\n",
       "  <tbody>\n",
       "    <tr>\n",
       "      <th>0</th>\n",
       "      <td>122697049</td>\n",
       "      <td>1</td>\n",
       "      <td>10</td>\n",
       "      <td>9</td>\n",
       "      <td>8103057.4</td>\n",
       "      <td>156.0</td>\n",
       "      <td>4700000.0</td>\n",
       "      <td>0.0</td>\n",
       "      <td>0.0</td>\n",
       "      <td>0.0</td>\n",
       "      <td>0</td>\n",
       "      <td>4.0</td>\n",
       "      <td>0</td>\n",
       "    </tr>\n",
       "    <tr>\n",
       "      <th>1</th>\n",
       "      <td>959830672</td>\n",
       "      <td>1</td>\n",
       "      <td>5</td>\n",
       "      <td>11</td>\n",
       "      <td>38000.0</td>\n",
       "      <td>156.0</td>\n",
       "      <td>1000.0</td>\n",
       "      <td>0.0</td>\n",
       "      <td>0.0</td>\n",
       "      <td>0.0</td>\n",
       "      <td>0</td>\n",
       "      <td>2.0</td>\n",
       "      <td>0</td>\n",
       "    </tr>\n",
       "    <tr>\n",
       "      <th>2</th>\n",
       "      <td>564421968</td>\n",
       "      <td>0</td>\n",
       "      <td>8</td>\n",
       "      <td>12</td>\n",
       "      <td>5000.0</td>\n",
       "      <td>156.0</td>\n",
       "      <td>5000.0</td>\n",
       "      <td>0.0</td>\n",
       "      <td>0.0</td>\n",
       "      <td>0.0</td>\n",
       "      <td>1</td>\n",
       "      <td>0.0</td>\n",
       "      <td>0</td>\n",
       "    </tr>\n",
       "    <tr>\n",
       "      <th>3</th>\n",
       "      <td>620868429</td>\n",
       "      <td>0</td>\n",
       "      <td>8</td>\n",
       "      <td>9</td>\n",
       "      <td>10000.0</td>\n",
       "      <td>156.0</td>\n",
       "      <td>10000.0</td>\n",
       "      <td>0.0</td>\n",
       "      <td>0.0</td>\n",
       "      <td>0.0</td>\n",
       "      <td>0</td>\n",
       "      <td>0.0</td>\n",
       "      <td>0</td>\n",
       "    </tr>\n",
       "    <tr>\n",
       "      <th>4</th>\n",
       "      <td>1176966297</td>\n",
       "      <td>0</td>\n",
       "      <td>55</td>\n",
       "      <td>11</td>\n",
       "      <td>3000.0</td>\n",
       "      <td>156.0</td>\n",
       "      <td>3000.0</td>\n",
       "      <td>0.0</td>\n",
       "      <td>0.0</td>\n",
       "      <td>0.0</td>\n",
       "      <td>0</td>\n",
       "      <td>0.0</td>\n",
       "      <td>0</td>\n",
       "    </tr>\n",
       "  </tbody>\n",
       "</table>\n",
       "</div>"
      ],
      "text/plain": [
       "        entid  web_dum  ENTTYPE  INDUSTRYPHY     REGCAP REGCAPCUR     RECCAP  \\\n",
       "0   122697049        1       10            9  8103057.4     156.0  4700000.0   \n",
       "1   959830672        1        5           11    38000.0     156.0     1000.0   \n",
       "2   564421968        0        8           12     5000.0     156.0     5000.0   \n",
       "3   620868429        0        8            9    10000.0     156.0    10000.0   \n",
       "4  1176966297        0       55           11     3000.0     156.0     3000.0   \n",
       "\n",
       "   PARNUM  LIMPARNUM  EXENUM  cancel_dum  certificate_num  tax_dum  \n",
       "0     0.0        0.0     0.0           0              4.0        0  \n",
       "1     0.0        0.0     0.0           0              2.0        0  \n",
       "2     0.0        0.0     0.0           1              0.0        0  \n",
       "3     0.0        0.0     0.0           0              0.0        0  \n",
       "4     0.0        0.0     0.0           0              0.0        0  "
      ]
     },
     "execution_count": 6,
     "metadata": {},
     "output_type": "execute_result"
    }
   ],
   "source": [
    "base_info.head()"
   ]
  },
  {
   "cell_type": "code",
   "execution_count": 7,
   "metadata": {},
   "outputs": [],
   "source": [
    "with open(\"./tax_year_features_1.pkl\", 'rb') as fi:\n",
    "    tax_year_features = pickle.load(fi)\n",
    "with open(\"./base_info_type_features_0.pkl\", 'rb') as fi:\n",
    "    base_info_type_features_features = pickle.load(fi)\n",
    "with open(\"./financial_features_0.pkl\", 'rb') as fi:\n",
    "    financial_features = pickle.load(fi)\n",
    "with open(\"./tax_abnormal_feature_0.pkl\", 'rb') as fi:\n",
    "    tax_abnormal_features = pickle.load(fi)\n",
    "with open(\"./socia_fee_features_0.pkl\", 'rb') as fi:\n",
    "    socia_fee_features = pickle.load(fi)\n",
    "with open(\"./tax_asset_features_1.pkl\", 'rb') as fi:\n",
    "    tax_asset_features = pickle.load(fi) \n",
    "with open(\"./isna_features_0.pkl\", 'rb') as fi:\n",
    "    isna_features = pickle.load(fi) \n",
    "        "
   ]
  },
  {
   "cell_type": "code",
   "execution_count": 8,
   "metadata": {},
   "outputs": [
    {
     "data": {
      "text/html": [
       "<div>\n",
       "<style scoped>\n",
       "    .dataframe tbody tr th:only-of-type {\n",
       "        vertical-align: middle;\n",
       "    }\n",
       "\n",
       "    .dataframe tbody tr th {\n",
       "        vertical-align: top;\n",
       "    }\n",
       "\n",
       "    .dataframe thead th {\n",
       "        text-align: right;\n",
       "    }\n",
       "</style>\n",
       "<table border=\"1\" class=\"dataframe\">\n",
       "  <thead>\n",
       "    <tr style=\"text-align: right;\">\n",
       "      <th></th>\n",
       "      <th>tax_type</th>\n",
       "      <th>tax_state</th>\n",
       "      <th>ttype</th>\n",
       "      <th>province</th>\n",
       "    </tr>\n",
       "  </thead>\n",
       "  <tbody>\n",
       "    <tr>\n",
       "      <th>0</th>\n",
       "      <td>-1</td>\n",
       "      <td>-1</td>\n",
       "      <td>-1</td>\n",
       "      <td>-1</td>\n",
       "    </tr>\n",
       "    <tr>\n",
       "      <th>1</th>\n",
       "      <td>-1</td>\n",
       "      <td>-1</td>\n",
       "      <td>-1</td>\n",
       "      <td>-1</td>\n",
       "    </tr>\n",
       "    <tr>\n",
       "      <th>2</th>\n",
       "      <td>-1</td>\n",
       "      <td>-1</td>\n",
       "      <td>-1</td>\n",
       "      <td>-1</td>\n",
       "    </tr>\n",
       "    <tr>\n",
       "      <th>3</th>\n",
       "      <td>-1</td>\n",
       "      <td>-1</td>\n",
       "      <td>-1</td>\n",
       "      <td>-1</td>\n",
       "    </tr>\n",
       "    <tr>\n",
       "      <th>4</th>\n",
       "      <td>-1</td>\n",
       "      <td>-1</td>\n",
       "      <td>-1</td>\n",
       "      <td>-1</td>\n",
       "    </tr>\n",
       "  </tbody>\n",
       "</table>\n",
       "</div>"
      ],
      "text/plain": [
       "   tax_type  tax_state  ttype  province\n",
       "0        -1         -1     -1        -1\n",
       "1        -1         -1     -1        -1\n",
       "2        -1         -1     -1        -1\n",
       "3        -1         -1     -1        -1\n",
       "4        -1         -1     -1        -1"
      ]
     },
     "execution_count": 8,
     "metadata": {},
     "output_type": "execute_result"
    }
   ],
   "source": [
    "tax_abnormal_features.head()"
   ]
  },
  {
   "cell_type": "code",
   "execution_count": 9,
   "metadata": {},
   "outputs": [],
   "source": [
    "base_info = pd.concat([base_info,\n",
    "                       tax_year_features,\n",
    "                       base_info_type_features_features,\n",
    "                       financial_features,\n",
    "                       tax_abnormal_features,\n",
    "                       socia_fee_features\n",
    "                       ,tax_asset_features\n",
    "                       ,isna_features\n",
    "                      ],axis = 1)"
   ]
  },
  {
   "cell_type": "code",
   "execution_count": 10,
   "metadata": {},
   "outputs": [
    {
     "data": {
      "text/plain": [
       "Index(['gross_income', 'debt_income_rate', 'other_gross_rate',\n",
       "       'main_gross_rate', 'yea_sub_exsit', 'adjust_gross_income'],\n",
       "      dtype='object')"
      ]
     },
     "execution_count": 10,
     "metadata": {},
     "output_type": "execute_result"
    }
   ],
   "source": [
    "tax_asset_features.columns"
   ]
  },
  {
   "cell_type": "code",
   "execution_count": 11,
   "metadata": {},
   "outputs": [],
   "source": [
    "# auto_bin_features = [\"REGCAP\",\"RECCAP\",\"PARNUM\",\"LIMPARNUM\",\"EXENUM\",\"certificate_num\"]\n",
    "auto_bin_features = [\"REGCAP\",\"RECCAP\",\"PARNUM\",\"LIMPARNUM\",\"EXENUM\",\"certificate_num\",\n",
    "                     \"profit_loss\",\"profit_loss_history_percent\",\"profit_loss_asset\",\n",
    "                    \"revenue\",\"revenue_history_percent\",\"revenue_asset\",\n",
    "                    \"sales_cost\",\"sales_cost_history_percent\",\"sales_cost_asset\",\n",
    "                    \"sales_tax\",\"sales_tax_history_percent\",\"sales_tax_asset\",\n",
    "                    \"sales_expense\",\"sales_expense_history_percent\",\"sales_expense_asset\",\n",
    "                    \"G_expense\",\"G_expense_history_percent\",\"G_expense_asset\",\n",
    "                    \"finance_expense\",\"finance_expense_history_percent\",\"finance_expense_asset\",\n",
    "                    \"asset_devaluation_losses\",\"asset_devaluation_losses_history_percent\",\"asset_devaluation_losses_asset\",\n",
    "                    \"fair_value_change\",\"fair_value_change_history_percent\",\"fair_value_change_asset\",\n",
    "                    \"investment_income\",\"investment_income_history_percent\",\"investment_income_asset\",\n",
    "                    \"operation_profit\",\"operation_profit_history_percent\",\"operation_profit_asset\",\n",
    "                    \"non_operating_income\",\"non_operating_income_history_percent\",\"non_operating_income_asset\",\n",
    "                    \"non_operating_expense\",\"non_operating_expense_history_percent\",\"non_operating_expense_asset\",\n",
    "                    \"total_profit\",\"total_profit_history_percent\",\"total_profit_asset\",\n",
    "                    \"assets\",\"assets_history_percent\",\"assets_asset\",\n",
    "                    \"assets_re\",\"assets_re_history_percent\",\"assets_re_asset\",\n",
    "                    \"payrol_expense\",\"payrol_expense_history_percent\",\"payrol_expense_asset\",\n",
    "                    \"main_business_income\",\"main_business_income_history_percent\",\"main_business_income_asset\",\n",
    "                    \"main_business_cost\",\"main_business_cost_history_percent\",\"main_business_cost_asset\",\n",
    "                    \"other_business_income\",\"other_business_income_history_percent\",\"other_business_income_asset\",\n",
    "                    \"other_operating_cost\",\"other_operating_cost_history_percent\",\"other_operating_cost_asset\",\n",
    "                    \"retained_profits\",\"retained_profits_history_percent\",\"retained_profits_asset\",\n",
    "                    \"gross_profit\",\"gross_profit_history_percent\",\"gross_profit_asset\",\n",
    "                    \"main_business_gross\",\"main_business_gross_history_percent\",\"main_business_gross_asset\",\n",
    "                    \"income_tax_adjuste\",\"income_tax_adjuste_history_percent\",\"income_tax_adjuste_asset\",\n",
    "                    \"income_taxable\",\"income_taxable_history_percent\",\"income_taxable_asset\",\n",
    "                    \"incometax_taxable\",\"incometax_taxable_history_percent\",\"incometax_taxable_asset\",\n",
    "                    \"incometax_amount\",\"incometax_amount_history_percent\",\"incometax_amount_asset\",\n",
    "                    \"incometax_actual\",\"incometax_actual_history_percent\",\"incometax_actual_asset\",\n",
    "                     \"INDUSTRYPHY_num\",\"ENTTYPE_num\",\n",
    "                     'A1_Interest_Coverage_Multiple_A', 'A2_Interest_overage_Multiple B',\n",
    "                     'A3_Asset_liability_ratio', 'A4_Ratio_of_equity_to_debt', 'A5_EBITDA',\n",
    "                     'B1_equity_ratio', 'B2_Profit_ratio_of_main_business',\n",
    "                     'B3_Profit_from_financial_activities', 'B4_Operating_profit_ratio',\n",
    "                     'B5_Flow_rate', 'C1_ROA', 'C2_ROE', 'C3_gross_margin',\n",
    "                     'C4_Expense_ratio_during_sales',\n",
    "                     'C5_Operating_margin_before_interest_and_tax', 'D1_Financial_leverage',\n",
    "                     'D2_EM', 'D3_ER', 'E1_Capital_preservation_and_appreciation_rate',\n",
    "                     'E2_Growth_rate_of_total_assets', 'E3_Growth_rate_of_revenue',\n",
    "                     \"so1_history_percent\",\n",
    "                    \"so2_history_percent\",\n",
    "                    \"so3_history_percent\",\n",
    "                    \"so4_history_percent\",\n",
    "                    \"so5_history_percent\",\n",
    "                    \"totalWagesSo1_history_percent\",\n",
    "                    \"totalWagesSo2_history_percent\",\n",
    "                    \"totalWagesSo3_history_percent\",\n",
    "                    \"totalWagesSo5_history_percent\",\n",
    "                    \"totalPaymentSo1_history_percent\",\n",
    "                    \"totalPaymentSo2_history_percent\",\n",
    "                    \"totalPaymentSo3_history_percent\",\n",
    "                    \"totalPaymentSo4_history_percent\",\n",
    "                    \"totalPaymentSo5_history_percent\",\n",
    "                    \"unPaidSocialInsSo1_history_percent\",\n",
    "                    \"unPaidSocialInsSo2_history_percent\",\n",
    "                    \"unPaidSocialInsSo3_history_percent\",\n",
    "                    \"unPaidSocialInsSo4_history_percent\",\n",
    "                    \"unPaidSocialInsSo5_history_percent\"\n",
    "                    , 'gross_income', 'debt_income_rate', 'other_gross_rate',\n",
    "                    'main_gross_rate', 'adjust_gross_income'\n",
    "                    ]"
   ]
  },
  {
   "cell_type": "code",
   "execution_count": 12,
   "metadata": {},
   "outputs": [],
   "source": [
    "bin_features_head =  [ x + \"_bin\" for x in auto_bin_features]"
   ]
  },
  {
   "cell_type": "code",
   "execution_count": 13,
   "metadata": {},
   "outputs": [],
   "source": [
    "categrical_features = [\"web_dum\",\"ENTTYPE\",\"INDUSTRYPHY\",\"cancel_dum\",\"tax_dum\",\n",
    "                       \"profit_loss_history_more\",\"profit_loss_empty\",\n",
    "                        \"revenue_history_more\",\"revenue_empty\",\n",
    "                        \"sales_cost_history_more\",\"sales_cost_empty\",\n",
    "                        \"sales_tax_history_more\",\"sales_tax_empty\",\n",
    "                        \"sales_expense_history_more\",\"sales_expense_empty\",\n",
    "                        \"G_expense_history_more\",\"G_expense_empty\",\n",
    "                        \"finance_expense_history_more\",\"finance_expense_empty\",\n",
    "                        \"asset_devaluation_losses_history_more\",\"asset_devaluation_losses_empty\",\n",
    "                        \"fair_value_change_history_more\",\"fair_value_change_empty\",\n",
    "                        \"investment_income_history_more\",\"investment_income_empty\",\n",
    "                        \"operation_profit_history_more\",\"operation_profit_empty\",\n",
    "                        \"non_operating_income_history_more\",\"non_operating_income_empty\",\n",
    "                        \"non_operating_expense_history_more\",\"non_operating_expense_empty\",\n",
    "                        \"total_profit_history_more\",\"total_profit_empty\",\n",
    "                        \"assets_history_more\",\"assets_empty\",\n",
    "                        \"assets_re_history_more\",\"assets_re_empty\",\n",
    "                        \"payrol_expense_history_more\",\"payrol_expense_empty\",\n",
    "                        \"main_business_income_history_more\",\"main_business_income_empty\",\n",
    "                        \"main_business_cost_history_more\",\"main_business_cost_empty\",\n",
    "                        \"other_business_income_history_more\",\"other_business_income_empty\",\n",
    "                        \"other_operating_cost_history_more\",\"other_operating_cost_empty\",\n",
    "                        \"retained_profits_history_more\",\"retained_profits_empty\",\n",
    "                        \"gross_profit_history_more\",\"gross_profit_empty\",\n",
    "                        \"main_business_gross_history_more\",\"main_business_gross_empty\",\n",
    "                        \"income_tax_adjuste_history_more\",\"income_tax_adjuste_empty\",\n",
    "                        \"income_taxable_history_more\",\"income_taxable_empty\",\n",
    "                        \"incometax_taxable_history_more\",\"incometax_taxable_empty\",\n",
    "                        \"incometax_amount_history_more\",\"incometax_amount_empty\",\n",
    "                        \"incometax_actual_history_more\",\"incometax_actual_empty\",\n",
    "                        \"INDUSTRYPHY_risk_exist\",\"INDUSTRYPHY_capital_higher\",\"INDUSTRYPHY_paidin_capital_higher\",\n",
    "                        \"ENTTYPE_risk_exist\",\"ENTTYPE_capital_higher\",\"ENTTYPE_paidin_capital_higher\",\n",
    "                        'tax_type', 'tax_state', 'ttype', 'province',\n",
    "                       \"so1_history_more\",\"so1_empty\",\n",
    "                        \"so2_history_more\",\"so2_empty\",\n",
    "                        \"so3_history_more\",\"so3_empty\",\n",
    "                        \"so4_history_more\",\"so4_empty\",\n",
    "                        \"so5_history_more\",\"so5_empty\",\n",
    "                        \"totalWagesSo1_history_more\",\"totalWagesSo1_empty\",\n",
    "                        \"totalWagesSo2_history_more\",\"totalWagesSo2_empty\",\n",
    "                        \"totalWagesSo3_history_more\",\"totalWagesSo3_empty\",\n",
    "                        \"totalWagesSo5_history_more\",\"totalWagesSo5_empty\",\n",
    "                        \"totalPaymentSo1_history_more\",\"totalPaymentSo1_empty\",\n",
    "                        \"totalPaymentSo2_history_more\",\"totalPaymentSo2_empty\",\n",
    "                        \"totalPaymentSo3_history_more\",\"totalPaymentSo3_empty\",\n",
    "                        \"totalPaymentSo4_history_more\",\"totalPaymentSo4_empty\",\n",
    "                        \"totalPaymentSo5_history_more\",\"totalPaymentSo5_empty\",\n",
    "                        \"unPaidSocialInsSo1_history_more\",\"unPaidSocialInsSo1_empty\",\n",
    "                        \"unPaidSocialInsSo2_history_more\",\"unPaidSocialInsSo2_empty\",\n",
    "                        \"unPaidSocialInsSo3_history_more\",\"unPaidSocialInsSo3_empty\",\n",
    "                        \"unPaidSocialInsSo4_history_more\",\"unPaidSocialInsSo4_empty\",\n",
    "                        \"unPaidSocialInsSo5_history_more\",\"unPaidSocialInsSo5_empty\",\n",
    "                         'ispublic_empty', 'yea_sub_exsit',\n",
    "                       '1_ispublic_isna',\n",
    "                         '1_ANCHEYEAR_isna',\n",
    "                         '1_so1_isna',\n",
    "                         '1_so2_isna',\n",
    "                         '1_so3_isna',\n",
    "                         '1_so4_isna',\n",
    "                         '1_so5_isna',\n",
    "                         '1_totalWagesSo1_isna',\n",
    "                         '1_totalWagesSo2_isna',\n",
    "                         '1_totalWagesSo3_isna',\n",
    "                         '1_totalWagesSo5_isna',\n",
    "                         '1_totalPaymentSo1_isna',\n",
    "                         '1_totalPaymentSo2_isna',\n",
    "                         '1_totalPaymentSo3_isna',\n",
    "                         '1_totalPaymentSo4_isna',\n",
    "                         '1_totalPaymentSo5_isna',\n",
    "                         '1_unPaidSocialInsSo1_isna',\n",
    "                         '1_unPaidSocialInsSo2_isna',\n",
    "                         '1_unPaidSocialInsSo3_isna',\n",
    "                         '1_unPaidSocialInsSo4_isna',\n",
    "                         '1_unPaidSocialInsSo5_isna',\n",
    "                         '2_ALTDATE_isna',\n",
    "                         '2_ALTTIME_isna',\n",
    "                         '3_ANCHEYEAR_isna',\n",
    "                         '3_INV_isna',\n",
    "                         '3_TRANSAMPR_isna',\n",
    "                         '3_TRANSAMAFT_isna',\n",
    "                         '3_ALTDATE_isna',\n",
    "                         '4_NAME_isna',\n",
    "                         '4_indate_isna',\n",
    "                         '4_outdate_isna',\n",
    "                         '5_honor_num_isna',\n",
    "                         '5_illegad_num_isna',\n",
    "                         '5_yea_sub_isna',\n",
    "                         '5_web_dum_isna',\n",
    "                         '5_ENTTYPE_isna',\n",
    "                         '5_INDUSTRYPHY_isna',\n",
    "                         '5_REGCAP_isna',\n",
    "                         '5_REGCAPCUR_isna',\n",
    "                         '5_RECCAP_isna',\n",
    "                         '5_PARNUM_isna',\n",
    "                         '5_LIMPARNUM_isna',\n",
    "                         '5_PARFORM_isna',\n",
    "                         '5_EXENUM_isna',\n",
    "                         '5_brand_num_isna',\n",
    "                         '5_cancel_dum_isna',\n",
    "                         '5_certificate_num_isna',\n",
    "                         '5_tax_dum_isna',\n",
    "                         '6_ANCHEYEAR_isna',\n",
    "                         '6_ispublic_isna',\n",
    "                         '6_ASSGRO_isna',\n",
    "                         '6_LIAGRO_isna',\n",
    "                         '6_VENDINC_isna',\n",
    "                         '6_MAIBUSINC_isna',\n",
    "                         '6_PROGRO_isna',\n",
    "                         '6_NETINC_isna',\n",
    "                         '6_RATGRO_isna',\n",
    "                         '6_TOTEQU_isna',\n",
    "                         '7_ANCHEYEAR_isna',\n",
    "                         '7_ANCHEDATE_isna',\n",
    "                         '7_EMPNUM_isna',\n",
    "                         '7_WOMEMPNUM_isna',\n",
    "                         '7_BUSST_isna',\n",
    "                         '8_region_id_isna',\n",
    "                         '8_entertype_tax_isna',\n",
    "                         '8_industry_tax_isna',\n",
    "                         '8_registertype_isna',\n",
    "                         '8_economic_type_isna',\n",
    "                         '8_incometax_rate_isna',\n",
    "                         '8_collection_type_isna',\n",
    "                         '8_EMPNUM_isna',\n",
    "                         '8_year_isna',\n",
    "                         '9_taxtype_isna',\n",
    "                         '9_debt_isna',\n",
    "                         '10_tax_type_isna',\n",
    "                         '10_tax_state_isna',\n",
    "                         '10_cdate_isna',\n",
    "                         '10_ttype_isna',\n",
    "                         '10_province_isna',\n",
    "                         '11_entid_inv_isna',\n",
    "                         '11_CONAM_before_isna',\n",
    "                         '11_CONAM_after_isna',\n",
    "                         '11_CONPROP_before_isna',\n",
    "                         '11_CONPROP_after_isna',\n",
    "                         '11_ttype_isna',\n",
    "                         '11_ATDATE_isna',\n",
    "                         '12_MEMNNUM_isna',\n",
    "                         '12_FARNUM_isna',\n",
    "                         '12_ANNNEWMEM_isna',\n",
    "                         '12_ANNREDMEM_isna',\n",
    "                         '12_ANCHEYEAR_isna',\n",
    "                         '13_year_isna',\n",
    "                         '13_islatest_isna',\n",
    "                         '13_profit_loss_isna',\n",
    "                         '13_revenue_isna',\n",
    "                         '13_sales_cost_isna',\n",
    "                         '13_sales_tax_isna',\n",
    "                         '13_sales_expense_isna',\n",
    "                         '13_G_expense_isna',\n",
    "                         '13_finance_expense_isna',\n",
    "                         '13_asset_devaluation_losses_isna',\n",
    "                         '13_fair_value_change_isna',\n",
    "                         '13_investment_income_isna',\n",
    "                         '13_operation_profit_isna',\n",
    "                         '13_non_operating_income_isna',\n",
    "                         '13_non_operating_expense_isna',\n",
    "                         '13_total_profit_isna',\n",
    "                         '13_assets_isna',\n",
    "                         '13_assets_re_isna',\n",
    "                         '13_payrol_expense_isna',\n",
    "                         '13_welfare_expenses_isna',\n",
    "                         '13_education_expenses_isna',\n",
    "                         '13_union_funds_isna',\n",
    "                         '13_ad_expenses_isna',\n",
    "                         '13_entertainment_expenses_isna',\n",
    "                         '13_assets_loss_isna',\n",
    "                         '13_asset_devaluation_allowance_isna',\n",
    "                         '13_main_business_income_isna',\n",
    "                         '13_main_business_cost_isna',\n",
    "                         '13_other_business_income_isna',\n",
    "                         '13_other_operating_cost_isna',\n",
    "                         '13_retained_profits_isna',\n",
    "                         '13_gross_profit_isna',\n",
    "                         '13_main_business_gross_isna',\n",
    "                         '13_income_tax_adjuste_isna',\n",
    "                         '13_income_taxable_isna',\n",
    "                         '13_incometax_taxable_isna',\n",
    "                         '13_incometax_amount_isna',\n",
    "                         '13_incometax_actual_isna'\n",
    "                      ]"
   ]
  },
  {
   "cell_type": "code",
   "execution_count": 14,
   "metadata": {},
   "outputs": [],
   "source": [
    "# 分箱\n",
    "Discretizer = KBinsDiscretizer(n_bins = 5,encode=\"ordinal\",strategy=\"kmeans\")\n",
    "# one_hot\n",
    "onehot_encoder = OneHotEncoder(categories = \"auto\", drop = \"first\", handle_unknown='error',sparse = False)"
   ]
  },
  {
   "cell_type": "code",
   "execution_count": 15,
   "metadata": {},
   "outputs": [
    {
     "data": {
      "text/plain": [
       "(12279, 140)"
      ]
     },
     "execution_count": 15,
     "metadata": {},
     "output_type": "execute_result"
    }
   ],
   "source": [
    "base_info[auto_bin_features].shape"
   ]
  },
  {
   "cell_type": "code",
   "execution_count": 16,
   "metadata": {},
   "outputs": [
    {
     "data": {
      "text/plain": [
       "382"
      ]
     },
     "execution_count": 16,
     "metadata": {},
     "output_type": "execute_result"
    }
   ],
   "source": [
    "len(auto_bin_features)+len(categrical_features)"
   ]
  },
  {
   "cell_type": "code",
   "execution_count": 17,
   "metadata": {},
   "outputs": [],
   "source": [
    "# Discretizer.fit(base_info[auto_bin_features])\n",
    "# bin_categrical_features = Discretizer.transform(base_info[auto_bin_features])\n",
    "# bin_categrical_features = pd.DataFrame(bin_categrical_features, columns = bin_features_head)"
   ]
  },
  {
   "cell_type": "code",
   "execution_count": 18,
   "metadata": {},
   "outputs": [],
   "source": [
    "manual_bin = False\n",
    "if manual_bin:\n",
    "    all_cate_features = pd.concat([base_info[categrical_features], bin_categrical_features], axis = 1)\n",
    "else:\n",
    "    all_cate_features = base_info[categrical_features]"
   ]
  },
  {
   "cell_type": "code",
   "execution_count": 19,
   "metadata": {},
   "outputs": [],
   "source": [
    "onehot_encoder = OneHotEncoder(categories = \"auto\", drop = \"first\", handle_unknown='error',sparse = False)"
   ]
  },
  {
   "cell_type": "code",
   "execution_count": 20,
   "metadata": {},
   "outputs": [
    {
     "data": {
      "text/plain": [
       "web_dum                       int64\n",
       "ENTTYPE                       int64\n",
       "ENTTYPE                       int64\n",
       "INDUSTRYPHY                   int64\n",
       "INDUSTRYPHY                   int64\n",
       "                              ...  \n",
       "13_income_tax_adjuste_isna    int64\n",
       "13_income_taxable_isna        int64\n",
       "13_incometax_taxable_isna     int64\n",
       "13_incometax_amount_isna      int64\n",
       "13_incometax_actual_isna      int64\n",
       "Length: 244, dtype: object"
      ]
     },
     "execution_count": 20,
     "metadata": {},
     "output_type": "execute_result"
    }
   ],
   "source": [
    "all_cate_features.dtypes"
   ]
  },
  {
   "cell_type": "code",
   "execution_count": 21,
   "metadata": {},
   "outputs": [
    {
     "data": {
      "text/plain": [
       "OneHotEncoder(drop='first', sparse=False)"
      ]
     },
     "execution_count": 21,
     "metadata": {},
     "output_type": "execute_result"
    }
   ],
   "source": [
    "onehot_encoder.fit(all_cate_features)"
   ]
  },
  {
   "cell_type": "code",
   "execution_count": 22,
   "metadata": {},
   "outputs": [],
   "source": [
    "one_hot_features = onehot_encoder.transform(all_cate_features)"
   ]
  },
  {
   "cell_type": "code",
   "execution_count": 23,
   "metadata": {},
   "outputs": [
    {
     "data": {
      "text/plain": [
       "(12279, 393)"
      ]
     },
     "execution_count": 23,
     "metadata": {},
     "output_type": "execute_result"
    }
   ],
   "source": [
    "one_hot_features.shape"
   ]
  },
  {
   "cell_type": "code",
   "execution_count": 24,
   "metadata": {},
   "outputs": [],
   "source": [
    "train = pd.read_csv(\"./trainning_data/label_risk_company.csv\")\n",
    "train_id = set(train.entid)\n",
    "\n",
    "train_id_0 = set(train[train[\"CaseType\"] == 0].entid)\n",
    "train_id_1 = set(train[train[\"CaseType\"] == 1].entid)\n",
    "train_id_2 = set(train[train[\"CaseType\"] == 2].entid)\n",
    "train_id_3 = set(train[train[\"CaseType\"] == 3].entid)"
   ]
  },
  {
   "cell_type": "code",
   "execution_count": 25,
   "metadata": {},
   "outputs": [
    {
     "data": {
      "text/plain": [
       "29"
      ]
     },
     "execution_count": 25,
     "metadata": {},
     "output_type": "execute_result"
    }
   ],
   "source": [
    "train.shape[0]-len(set(train.entid))"
   ]
  },
  {
   "cell_type": "code",
   "execution_count": 26,
   "metadata": {},
   "outputs": [
    {
     "data": {
      "text/plain": [
       "(1392, 1)"
      ]
     },
     "execution_count": 26,
     "metadata": {},
     "output_type": "execute_result"
    }
   ],
   "source": [
    "test =  pd.read_csv(\"./test_data/test_data.csv\")\n",
    "test.shape"
   ]
  },
  {
   "cell_type": "code",
   "execution_count": 27,
   "metadata": {},
   "outputs": [],
   "source": [
    "test_id = set(test.entid)"
   ]
  },
  {
   "cell_type": "code",
   "execution_count": 28,
   "metadata": {},
   "outputs": [],
   "source": [
    "Ys = np.zeros(len(base_info.entid))\n",
    "Ys = Ys - 1"
   ]
  },
  {
   "cell_type": "code",
   "execution_count": 29,
   "metadata": {},
   "outputs": [],
   "source": [
    "Ys[base_info[base_info.entid.isin(train_id_0)].index] = 0\n",
    "Ys[base_info[base_info.entid.isin(train_id_1)].index] = 1\n",
    "Ys[base_info[base_info.entid.isin(train_id_2)].index] = 2\n",
    "Ys[base_info[base_info.entid.isin(train_id_3)].index] = 3"
   ]
  },
  {
   "cell_type": "code",
   "execution_count": 30,
   "metadata": {},
   "outputs": [],
   "source": [
    "test_index = base_info[base_info.entid.isin(test_id)].index\n",
    "for i in range(len(Ys)):\n",
    "    if Ys[i] == -1:\n",
    "        if not i in test_index:\n",
    "            Ys[i] = 4\n",
    "            \n",
    "for i in range(len(Ys)):\n",
    "    if i in test_index:\n",
    "        Ys[i] = -1            \n"
   ]
  },
  {
   "cell_type": "code",
   "execution_count": 31,
   "metadata": {},
   "outputs": [],
   "source": [
    "Ys = pd.DataFrame(Ys)"
   ]
  },
  {
   "cell_type": "code",
   "execution_count": 32,
   "metadata": {},
   "outputs": [],
   "source": [
    "#Ys.to_csv('label_all.csv')"
   ]
  },
  {
   "cell_type": "code",
   "execution_count": 33,
   "metadata": {},
   "outputs": [],
   "source": [
    "test_index = Ys[Ys[0] == -1].index"
   ]
  },
  {
   "cell_type": "code",
   "execution_count": 34,
   "metadata": {},
   "outputs": [],
   "source": [
    "train_index = Ys[Ys[0] != -1].index"
   ]
  },
  {
   "cell_type": "code",
   "execution_count": 35,
   "metadata": {},
   "outputs": [
    {
     "data": {
      "text/plain": [
       "(12279, 393)"
      ]
     },
     "execution_count": 35,
     "metadata": {},
     "output_type": "execute_result"
    }
   ],
   "source": [
    "one_hot_features.shape"
   ]
  },
  {
   "cell_type": "code",
   "execution_count": 36,
   "metadata": {},
   "outputs": [
    {
     "data": {
      "text/plain": [
       "(12279, 140)"
      ]
     },
     "execution_count": 36,
     "metadata": {},
     "output_type": "execute_result"
    }
   ],
   "source": [
    "base_info[auto_bin_features].values.shape"
   ]
  },
  {
   "cell_type": "code",
   "execution_count": 37,
   "metadata": {},
   "outputs": [],
   "source": [
    "if manual_bin:\n",
    "    train_x = one_hot_features[train_index,:]\n",
    "else:\n",
    "    train_x = np.concatenate([one_hot_features,base_info[auto_bin_features].values],axis = 1)[train_index,:]\n",
    "train_y = Ys.iloc[train_index]"
   ]
  },
  {
   "cell_type": "code",
   "execution_count": 38,
   "metadata": {},
   "outputs": [],
   "source": [
    "#OverSampler = RandomOverSampler()\n",
    "OverSampler = SMOTE(random_state = 0)"
   ]
  },
  {
   "cell_type": "code",
   "execution_count": 39,
   "metadata": {},
   "outputs": [],
   "source": [
    "#model\n",
    "from sklearn.model_selection import cross_val_score\n",
    "from sklearn.ensemble import RandomForestClassifier\n",
    "from sklearn.model_selection import train_test_split\n",
    "from sklearn.metrics import f1_score, accuracy_score\n",
    "from sklearn import svm\n",
    "\n",
    "from sklearn.linear_model import SGDClassifier\n",
    "# sgd_clf = SGDClassifier(loss = \"hinge\",\n",
    "#                         penalty = \"L2\",\n",
    "#                         random_state=42,\n",
    "#                         verbose=1,\n",
    "#                         max_iter=50)\n",
    "\n",
    "\n",
    "#clf = RandomForestClassifier(max_depth=15, random_state=0)\n",
    "\n",
    "import lightgbm as lgb\n",
    "import xgboost\n",
    "# model = lgb.LGBMClassifier(num_leaves=64,\n",
    "#                            max_depth=10,\n",
    "#                            learning_rate=0.01,\n",
    "#                            n_estimators=10000,\n",
    "#                            subsample=0.8,\n",
    "#                            feature_fraction=0.8,\n",
    "#                            reg_alpha=0.5,\n",
    "#                            reg_lambda=0.5,\n",
    "#                            random_state=42,\n",
    "#                            n_jobs=40,\n",
    "#                            metric=None)\n",
    "\n",
    "\n",
    "\n",
    "#import xgboost as xgb\n",
    "#model =xgb.XGBClassifier()\n"
   ]
  },
  {
   "cell_type": "code",
   "execution_count": 40,
   "metadata": {},
   "outputs": [],
   "source": [
    "params = {'objective': 'multi:softprob', \n",
    "          'eval_metric': 'auc',\n",
    "          'eta': 0.001,\n",
    "          'max_depth': 10, \n",
    "          'subsample': 0.6, \n",
    "          'sampling_method ':\"uniform\",  #\"uniform\":  \"gradient_based\"\n",
    "          'colsample_bytree': 0.6,\n",
    "          'lambda':0.001, #L2\n",
    "          'alpha':0.001,  #L1\n",
    "          'random_state': 42,\n",
    "          'num_class' : 5, \n",
    "          'silent': True}\n",
    "\n",
    "params['gpu_id'] = 0\n",
    "params['tree_method'] = 'gpu_hist'"
   ]
  },
  {
   "cell_type": "code",
   "execution_count": null,
   "metadata": {
    "scrolled": true
   },
   "outputs": [],
   "source": [
    "lr = 0.01\n",
    "colsample_by_trees = [0.7, 0.8, 0.9, 1]\n",
    "subsamples = [0.7, 0.8, 0.9, 1]\n",
    "max_depths = [5, 10, 15, 20]\n",
    "fold = 10\n",
    "\n",
    "\n",
    "for colsample_by_tree,subsample,max_depth in product(colsample_by_trees,subsamples,max_depths):\n",
    "    f1s = []\n",
    "    for i in range(fold):\n",
    "        X_train, X_eval, y_train, y_eval = train_test_split(train_x, train_y[0], test_size=0.2, random_state = i)\n",
    "        train_x_oversampled, train_y_oversampled = OverSampler.fit_resample(X_train, y_train)\n",
    "\n",
    "        #clf.fit(train_x_oversampled, train_y_oversampled)\n",
    "    #     model = \n",
    "        #lgb\n",
    "\n",
    "    #     clf = model.fit(train_x_oversampled,\n",
    "    #                     train_y_oversampled,\n",
    "    #                     eval_names=['valid'],\n",
    "    #                     eval_set=[(X_eval, y_eval)],\n",
    "    #                     verbose=0,\n",
    "    #                     eval_metric='logloss',\n",
    "    #                     early_stopping_rounds=50\n",
    "    #                     )\n",
    "        #xgb\n",
    "        clf = xgboost.XGBClassifier(n_estimators = 100,\n",
    "                                    max_depth = max_depth,\n",
    "                                    use_label_encoder=False,\n",
    "                                    learning_rate = lr,\n",
    "                                    verbosity= 0,\n",
    "                                    objective = \"multi:softprob\",\n",
    "                                    booster = \"gbtree\",\n",
    "                                    n_jobs = 10,\n",
    "                                    reg_alpha = 0.0001,\n",
    "                                    reg_lambda = 0.0001,\n",
    "                                    random_state = 0, \n",
    "                                    num_parallel_tree = 5,\n",
    "                                    colsample_by_tree = colsample_by_tree,\n",
    "                                    subsample = subsample, \n",
    "                                    gpu_id = 3,\n",
    "                                    tree_method = \"gpu_hist\")\n",
    "\n",
    "        clf.fit(train_x_oversampled, train_y_oversampled)\n",
    "        y_eval_pred = clf.predict(X_eval)\n",
    "        f1 = f1_score(y_eval,y_eval_pred, average='macro')\n",
    "#         acc = accuracy_score(y_eval, y_eval_pred)\n",
    "\n",
    "\n",
    "        f1s.append(f1)\n",
    "\n",
    "#       print(\"acc:{:.2f}, f1:{:.2f}\".format(acc,f1))\n",
    "#       target_names = ['class 0', 'class 1', 'class 2', 'class 3', 'class 4']\n",
    "        #print(classification_report(y_eval, y_eval_pred, target_names=target_names))\n",
    "    \n",
    "    avg_f1 = np.mean(f1s)\n",
    "    std_f1 = np.std(f1s)\n",
    "    print(colsample_by_tree,subsample,max_depth,avg_f1,std_f1)\n",
    "    "
   ]
  },
  {
   "cell_type": "code",
   "execution_count": null,
   "metadata": {},
   "outputs": [],
   "source": []
  }
 ],
 "metadata": {
  "kernelspec": {
   "display_name": "Python 3",
   "language": "python",
   "name": "python3"
  },
  "language_info": {
   "codemirror_mode": {
    "name": "ipython",
    "version": 3
   },
   "file_extension": ".py",
   "mimetype": "text/x-python",
   "name": "python",
   "nbconvert_exporter": "python",
   "pygments_lexer": "ipython3",
   "version": "3.7.6"
  }
 },
 "nbformat": 4,
 "nbformat_minor": 4
}
