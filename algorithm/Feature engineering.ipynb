{
 "cells": [
  {
   "cell_type": "code",
   "execution_count": 3,
   "metadata": {},
   "outputs": [],
   "source": [
    "import pandas as pd\n",
    "import os\n",
    "import numpy as np\n",
    "pd.set_option('max_colwidth',100)\n",
    "pd.set_option('display.max_columns',10)\n",
    "pd.set_option('display.max_rows',100)"
   ]
  },
  {
   "cell_type": "code",
   "execution_count": 4,
   "metadata": {},
   "outputs": [
    {
     "name": "stdout",
     "output_type": "stream",
     "text": [
      "company_ar,\n",
      "company_ar_alterstockinfo,\n",
      "company_ar_assetsinfo,\n",
      "company_ar_nz,\n",
      "company_ar_socialfee,\n",
      "company_base_info,\n",
      "company_modify,\n",
      "el_company_history_inv,\n",
      "el_company_history_manager,\n",
      "tax_abnormal,\n",
      "tax_company,\n",
      "tax_qianshui,\n",
      "tax_year,\n"
     ]
    }
   ],
   "source": [
    "#设置数据路径，REGCAPCUR.xls意义不明且编码不明，暂时删去\n",
    "name_list=os.listdir(r'D://cd80//Sample_Data//sample_data_feature')\n",
    "#读取数据，表名作为变量名\n",
    "for i in name_list:\n",
    "    if i[-3:]!='csv':\n",
    "        continue\n",
    "    path='D://cd80//Sample_Data//sample_data_feature//'+i\n",
    "    \n",
    "    name=i[:-4]\n",
    "    print(name+',')\n",
    "    cmd = \"%s=pd.read_csv(path)\" %name    #定义该变量要赋的值（此处为i）\n",
    "    exec(cmd)\n",
    "    eval(\"%s\" %name)\n"
   ]
  },
  {
   "cell_type": "code",
   "execution_count": 70,
   "metadata": {},
   "outputs": [
    {
     "name": "stdout",
     "output_type": "stream",
     "text": [
      "2300\n",
      "253\n",
      "435\n",
      "93\n",
      "2117\n",
      "2490\n",
      "1616\n",
      "639\n",
      "994\n",
      "46\n",
      "1681\n",
      "28\n",
      "1660\n"
     ]
    }
   ],
   "source": [
    "#查看每张表中按公司计数的记录条数\n",
    "print(len(company_ar.entid.value_counts()))\n",
    "print(len(company_ar_alterstockinfo.entid.value_counts()))\n",
    "print(len(company_ar_assetsinfo.entid.value_counts()))\n",
    "print(len(company_ar_nz.entid.value_counts()))\n",
    "print(len(company_ar_socialfee.entid.value_counts()))\n",
    "print(len(company_base_info.entid.value_counts()))\n",
    "print(len(company_modify.entid.value_counts()))\n",
    "print(len(el_company_history_inv.entid.value_counts()))\n",
    "print(len(el_company_history_manager.entid.value_counts()))\n",
    "print(len(tax_abnormal.entid.value_counts()))\n",
    "print(len(tax_company.entid.value_counts()))\n",
    "print(len(tax_qianshui.entid.value_counts()))\n",
    "print(len(tax_year.entid.value_counts()))"
   ]
  },
  {
   "cell_type": "code",
   "execution_count": 71,
   "metadata": {},
   "outputs": [],
   "source": [
    "#以entid作为index，便于后续合并\n",
    "company_base_info.index=company_base_info.entid\n",
    "tax_year.index=tax_year.entid\n",
    "company_ar_assetsinfo.index=company_ar_assetsinfo.entid"
   ]
  },
  {
   "cell_type": "code",
   "execution_count": 100,
   "metadata": {},
   "outputs": [
    {
     "data": {
      "text/plain": [
       "INDUSTRYPHY                 0\n",
       "ENTTYPE                     0\n",
       "NETINC                   2103\n",
       "ASSGRO                   2099\n",
       "LIAGRO                   2116\n",
       "TOTEQU                   2118\n",
       "incometax_taxable        2055\n",
       "finance_expense          1263\n",
       "revenue                  1153\n",
       "sales_cost               1339\n",
       "total_profit             1072\n",
       "investment_income        1798\n",
       "fair_value_change        1817\n",
       "operation_profit         1071\n",
       "non_operating_income     1622\n",
       "non_operating_expense    1633\n",
       "sales_tax                1384\n",
       "sales_expense            1514\n",
       "G_expense                1118\n",
       "dtype: int64"
      ]
     },
     "execution_count": 100,
     "metadata": {},
     "output_type": "execute_result"
    }
   ],
   "source": [
    "#根据entid合并数据集\n",
    "#由于数据太稀疏()，时间上没有对齐，取第一次出现的记录作为合并数据\n",
    "temp_df=pd.concat([company_base_info\n",
    "           ,tax_year.drop_duplicates('entid')\n",
    "           ,company_ar_assetsinfo.drop_duplicates('entid')],axis=1)[['INDUSTRYPHY','ENTTYPE',\n",
    "                                                                    'NETINC','ASSGRO','LIAGRO','TOTEQU','incometax_taxable',\n",
    "                                                                     'finance_expense','revenue','sales_cost','total_profit',\n",
    "                                                                    'investment_income','fair_value_change','operation_profit',\n",
    "                                                                    'non_operating_income','non_operating_expense',\n",
    "                                                                    'sales_tax','sales_expense','G_expense']]\n",
    "temp_df.isna().sum()"
   ]
  },
  {
   "cell_type": "code",
   "execution_count": 105,
   "metadata": {},
   "outputs": [],
   "source": [
    "for i in temp_df.columns:\n",
    "    if i in ['INDUSTRYPHY','ENTTYPE']:\n",
    "        continue\n",
    "    temp_df[i].fillna(temp_df[i].mean(),inplace=True)"
   ]
  },
  {
   "cell_type": "code",
   "execution_count": 106,
   "metadata": {},
   "outputs": [],
   "source": [
    "radar_df=temp_df\n",
    "\n",
    "#偿债能力指标\n",
    "temp_df['A1_ICM_A']=(temp_df.NETINC+temp_df.incometax_taxable+temp_df.finance_expense)/temp_df.finance_expense\n",
    "temp_df['A2_ICM_B']=(temp_df.NETINC+temp_df.finance_expense)/temp_df.finance_expense\n",
    "temp_df['A3_ALR']=temp_df.LIAGRO/temp_df.ASSGRO\n",
    "temp_df['A4_Ratio_of_equity_to_debt']=temp_df.TOTEQU/temp_df.LIAGRO\n",
    "temp_df['A5_EBITDA']=(temp_df.NETINC+temp_df.incometax_taxable+temp_df.finance_expense)/temp_df.LIAGRO\n",
    "\n",
    "temp_df['A']=np.random.rand(2490)\n",
    "\n",
    "#比率结构指标\n",
    "temp_df['B1_equity_ratio']=temp_df.TOTEQU/temp_df.ASSGRO\n",
    "temp_df['B2_Profit_ratio_of_main_business']=(temp_df.revenue-temp_df.sales_cost)/temp_df.total_profit\n",
    "temp_df['B3_Profit_from_financial_activities']=(temp_df.investment_income+temp_df.fair_value_change)/temp_df.total_profit\n",
    "temp_df['B4_Operating_profit_ratio']=(temp_df.non_operating_income-temp_df.non_operating_expense)/temp_df.total_profit\n",
    "temp_df['B5_Flow_rate']=temp_df.sales_tax/temp_df.revenue\n",
    "\n",
    "temp_df['B']=np.random.rand(2490)\n",
    "\n",
    "#盈利水平\n",
    "temp_df['C1_ROA']=temp_df.NETINC/temp_df.ASSGRO\n",
    "\n",
    "temp_df['C2_ROE']=temp_df.NETINC/temp_df.TOTEQU\n",
    "\n",
    "temp_df['C3_gross_margin']=(temp_df.revenue-temp_df.sales_cost)/temp_df.revenue\n",
    "\n",
    "temp_df['C4_Expense_ratio_during_sales']=(temp_df.sales_expense+temp_df.finance_expense+temp_df.G_expense)/temp_df.revenue\n",
    "\n",
    "temp_df['C5_Operating_margin_before_interest_and_tax']=(temp_df.NETINC+temp_df.incometax_taxable+temp_df.finance_expense)/temp_df.revenue\n",
    "\n",
    "temp_df['C']=np.random.rand(2490)\n",
    "#风险水平\n",
    "temp_df['D1_Financial_leverage']=(temp_df.NETINC+temp_df.incometax_taxable+temp_df.finance_expense)/(temp_df.NETINC+temp_df.incometax_taxable)\n",
    "temp_df['D2_EM']=temp_df.ASSGRO/temp_df.TOTEQU\n",
    "temp_df['D3_ER']=temp_df.LIAGRO/temp_df.TOTEQU\n",
    "\n",
    "temp_df['D']=np.random.rand(2490)\n",
    "#发展能力\n",
    "\n",
    "temp_df['E1_Capital_preservation_and_appreciation_rate']=np.random.rand(2490)\n",
    "temp_df['E2_Growth_rate_of_total_assets']=np.random.rand(2490)\n",
    "temp_df['E3_Growth_rate_of_revenue']=np.random.rand(2490)\n",
    "\n",
    "temp_df['E']=np.random.rand(2490)\n",
    "\n",
    "radar_df=temp_df[['A1_ICM_A','A2_ICM_B','A3_ALR','A4_RED','A5_EBITDA','A',\n",
    "                  'B1_equity_ratio','B2_Profit_ratio_of_main_business','B3_Profit_from_financial_activities','B4_Operating_profit_ratio','B5_Flow_rate','B',\n",
    "                  'C1_ROA','C2_ROE','C3_gross_margin','C4_Expense_ratio_during_sales','C5_Operating_margin_before_interest_and_tax','C',\n",
    "                  'D1_Financial_leverage','D2_EM','D3_ER','D',\n",
    "                  'E1_Capital_preservation_and_appreciation_rate','E2_Growth_rate_of_total_assets','E3_Growth_rate_of_revenue','E',\n",
    "                  'INDUSTRYPHY','ENTTYPE'\n",
    "                 ]]"
   ]
  },
  {
   "cell_type": "code",
   "execution_count": 108,
   "metadata": {},
   "outputs": [],
   "source": [
    "radar_df.to_csv('radar_df_test.csv')"
   ]
  },
  {
   "cell_type": "code",
   "execution_count": 9,
   "metadata": {},
   "outputs": [
    {
     "data": {
      "text/plain": [
       "entid\n",
       "1102521656    3.632476e+08\n",
       "393529853     1.744734e+08\n",
       "591231218     1.363237e+08\n",
       "1156237838    8.903219e+07\n",
       "1121113591    8.221203e+07\n",
       "                  ...     \n",
       "1106278934   -1.105625e+07\n",
       "908820235    -1.127711e+07\n",
       "809210755    -1.514301e+07\n",
       "40212297     -5.144408e+07\n",
       "855724058    -9.630758e+07\n",
       "Name: A1_ICM_A, Length: 2490, dtype: float64"
      ]
     },
     "execution_count": 9,
     "metadata": {},
     "output_type": "execute_result"
    }
   ],
   "source": [
    "temp_df.A1_ICM_A.sort_values(ascending=False)"
   ]
  },
  {
   "cell_type": "code",
   "execution_count": 240,
   "metadata": {
    "collapsed": true
   },
   "outputs": [
    {
     "data": {
      "text/plain": [
       "entid                            0\n",
       "year                             0\n",
       "islatest                         0\n",
       "profit_loss                      0\n",
       "revenue                        143\n",
       "sales_cost                     281\n",
       "sales_tax                      293\n",
       "sales_expense                  377\n",
       "G_expense                      196\n",
       "finance_expense                244\n",
       "asset_devaluation_losses       601\n",
       "fair_value_change              612\n",
       "investment_income              594\n",
       "operation_profit               160\n",
       "non_operating_income           509\n",
       "non_operating_expense          457\n",
       "total_profit                   160\n",
       "assets                         135\n",
       "assets_re                      135\n",
       "payrol_expense                 612\n",
       "welfare_expenses               612\n",
       "education_expenses             612\n",
       "union_funds                    612\n",
       "ad_expenses                    612\n",
       "entertainment_expenses         612\n",
       "assets_loss                    612\n",
       "asset_devaluation_allowance    612\n",
       "main_business_income           612\n",
       "main_business_cost             612\n",
       "other_business_income          612\n",
       "other_operating_cost           612\n",
       "retained_profits               612\n",
       "gross_profit                   612\n",
       "main_business_gross            612\n",
       "income_tax_adjuste             169\n",
       "income_taxable                 288\n",
       "incometax_taxable              282\n",
       "incometax_amount               373\n",
       "incometax_actual               282\n",
       "dtype: int64"
      ]
     },
     "execution_count": 240,
     "metadata": {},
     "output_type": "execute_result"
    }
   ],
   "source": [
    "tax_year[tax_year.year==2012].isna().sum()"
   ]
  },
  {
   "cell_type": "code",
   "execution_count": 242,
   "metadata": {},
   "outputs": [],
   "source": [
    "temp_df.to_csv('cd80_test.csv')"
   ]
  },
  {
   "cell_type": "code",
   "execution_count": 335,
   "metadata": {},
   "outputs": [
    {
     "data": {
      "text/plain": [
       "entid\n",
       "959830672       3\n",
       "959830672       3\n",
       "959830672       3\n",
       "620868429       0\n",
       "620868429       0\n",
       "             ... \n",
       "330068559    1825\n",
       "591748203     849\n",
       "337611555     248\n",
       "678325399     698\n",
       "488677666     758\n",
       "Name: region_id, Length: 5058, dtype: int64"
      ]
     },
     "execution_count": 335,
     "metadata": {},
     "output_type": "execute_result"
    }
   ],
   "source": [
    "(tax_company.region_id)"
   ]
  },
  {
   "cell_type": "code",
   "execution_count": 97,
   "metadata": {},
   "outputs": [
    {
     "data": {
      "text/plain": [
       "Index(['entid', 'honor_num', 'illegad_num', 'yea_sub', 'web_dum', 'ENTTYPE',\n",
       "       'INDUSTRYPHY', 'REGCAP', 'REGCAPCUR', 'RECCAP', 'PARNUM', 'LIMPARNUM',\n",
       "       'PARFORM', 'EXENUM', 'brand_num', 'cancel_dum', 'certificate_num',\n",
       "       'tax_dum'],\n",
       "      dtype='object')"
      ]
     },
     "execution_count": 97,
     "metadata": {},
     "output_type": "execute_result"
    }
   ],
   "source": [
    "company_base_info.columns"
   ]
  },
  {
   "cell_type": "code",
   "execution_count": 10,
   "metadata": {},
   "outputs": [
    {
     "data": {
      "text/plain": [
       "0       156.0\n",
       "1       156.0\n",
       "2       156.0\n",
       "3       156.0\n",
       "4       156.0\n",
       "        ...  \n",
       "2485    156.0\n",
       "2486      NaN\n",
       "2487    156.0\n",
       "2488    156.0\n",
       "2489      NaN\n",
       "Name: REGCAPCUR, Length: 2490, dtype: float64"
      ]
     },
     "execution_count": 10,
     "metadata": {},
     "output_type": "execute_result"
    }
   ],
   "source": [
    "company_base_info.REGCAPCUR"
   ]
  },
  {
   "cell_type": "code",
   "execution_count": null,
   "metadata": {},
   "outputs": [],
   "source": []
  }
 ],
 "metadata": {
  "kernelspec": {
   "display_name": "Python 3",
   "language": "python",
   "name": "python3"
  },
  "language_info": {
   "codemirror_mode": {
    "name": "ipython",
    "version": 3
   },
   "file_extension": ".py",
   "mimetype": "text/x-python",
   "name": "python",
   "nbconvert_exporter": "python",
   "pygments_lexer": "ipython3",
   "version": "3.8.3"
  }
 },
 "nbformat": 4,
 "nbformat_minor": 4
}
