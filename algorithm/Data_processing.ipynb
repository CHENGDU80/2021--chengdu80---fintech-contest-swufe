{
 "cells": [
  {
   "cell_type": "code",
   "execution_count": 9,
   "metadata": {},
   "outputs": [],
   "source": [
    "import os\n",
    "import pandas as pd\n",
    "import numpy as np"
   ]
  },
  {
   "cell_type": "code",
   "execution_count": 32,
   "metadata": {},
   "outputs": [],
   "source": [
    "def check_nan(table, rate = 1):\n",
    "    accepted_col = []\n",
    "    for col in table.columns:\n",
    "        na_percent = pd.isna(table[col]).sum() /  len(table)\n",
    "        na_percent_risk = pd.isna(table[table.entid.isin(train_id)][col]).sum() / len(train_id) / rate\n",
    "        risk_0 = pd.isna(table[table.entid.isin(train_id_0)][col]).sum() / len(train_id_0) / rate\n",
    "        risk_1 =  pd.isna(table[table.entid.isin(train_id_1)][col]).sum() / len(train_id_1) / rate\n",
    "        risk_2 =  pd.isna(table[table.entid.isin(train_id_2)][col]).sum() / len(train_id_2) / rate\n",
    "        risk_3 = pd.isna(table[table.entid.isin(train_id_3)][col]).sum() / len(train_id_3) / rate\n",
    "        if na_percent <= 0.9:\n",
    "            accepted_col.append(col)\n",
    "        print(\"col_{}, na_percent{:.2f}, na_percent_risk{:.2f}, [{:.2f},{:.2f},{:.2f},{:.2f}]\".format(col,na_percent,na_percent_risk,risk_0,risk_1,risk_2,risk_3))\n",
    "    print(accepted_col)\n",
    "    return accepted_col"
   ]
  },
  {
   "cell_type": "code",
   "execution_count": 245,
   "metadata": {},
   "outputs": [],
   "source": [
    "def fillna_year(table, use_cols): \n",
    "    new_cols = {}\n",
    "    for col in use_cols:\n",
    "        new_cols[col] = []\n",
    "        \n",
    "    table_mean = table.mean()\n",
    "    table_group_mean = table.groupby(\"entid\").apply(lambda x: x.mean())\n",
    "    for i in table.index:\n",
    "        row = table.loc[i]\n",
    "        for col in use_cols :\n",
    "            if np.isnan(row[col]):\n",
    "                mean_row = table_group_mean[table_group_mean[\"entid\"] == row.entid]\n",
    "                if len(mean_row) == 1 and ~np.isnan(mean_row[col].values[0]):\n",
    "                    new_cols[col].append(mean_row[col].values[0])\n",
    "                else:\n",
    "                    new_cols[col].append(table_mean[col])\n",
    "            else:\n",
    "                new_cols[col].append(row[col])  \n",
    "    return new_cols"
   ]
  },
  {
   "cell_type": "code",
   "execution_count": 33,
   "metadata": {},
   "outputs": [
    {
     "name": "stdout",
     "output_type": "stream",
     "text": [
      "['company_ar_socialfee.csv', 'company_modify.csv', '.ipynb_checkpoints', 'company_ar_alterstockinfo.csv', 'el_company_history_manager.csv', 'REGCAPCUR.xls', 'company_base_info.csv', 'company_ar_assetsinfo.csv', 'company_ar.csv', 'tax_company.csv', 'tax_qianshui.csv', 'tax_abnormal.csv', 'el_company_history_inv.csv', 'company_ar_nz.csv', 'tax_year.csv']\n"
     ]
    }
   ],
   "source": [
    "dir_ = \"./trainning_data/corporate_attributes/\"\n",
    "files = os.listdir(dir_)\n",
    "print(files)"
   ]
  },
  {
   "cell_type": "code",
   "execution_count": 34,
   "metadata": {
    "scrolled": true
   },
   "outputs": [
    {
     "name": "stdout",
     "output_type": "stream",
     "text": [
      "company_ar_socialfee.csv 10396\n",
      "company_modify.csv 77622\n",
      "company_ar_alterstockinfo.csv 3679\n",
      "el_company_history_manager.csv 11296\n",
      "company_base_info.csv 12279\n",
      "company_ar_assetsinfo.csv 4884\n",
      "company_ar.csv 50048\n",
      "tax_company.csv 24864\n",
      "tax_qianshui.csv 290\n",
      "tax_abnormal.csv 359\n",
      "el_company_history_inv.csv 10170\n",
      "company_ar_nz.csv 1365\n",
      "tax_year.csv 30346\n"
     ]
    }
   ],
   "source": [
    "for file in files:\n",
    "    if file.endswith(\"csv\"):\n",
    "        csv_temp = pd.read_csv(dir_ + file)\n",
    "        print(file, len(csv_temp))"
   ]
  },
  {
   "cell_type": "code",
   "execution_count": 35,
   "metadata": {},
   "outputs": [],
   "source": [
    "train = pd.read_csv(\"./trainning_data/label_risk_company.csv\")\n",
    "train_id = set(train.entid)\n",
    "\n",
    "train_id_0 = set(train[train[\"CaseType\"] == 0].entid)\n",
    "train_id_1 = set(train[train[\"CaseType\"] == 1].entid)\n",
    "train_id_2 = set(train[train[\"CaseType\"] == 2].entid)\n",
    "train_id_3 = set(train[train[\"CaseType\"] == 3].entid)"
   ]
  },
  {
   "cell_type": "code",
   "execution_count": 36,
   "metadata": {},
   "outputs": [],
   "source": [
    "# company_base_info.csv "
   ]
  },
  {
   "cell_type": "code",
   "execution_count": 37,
   "metadata": {},
   "outputs": [],
   "source": [
    "base_info = pd.read_csv(\"./trainning_data/corporate_attributes/company_base_info.csv\")"
   ]
  },
  {
   "cell_type": "code",
   "execution_count": 90,
   "metadata": {},
   "outputs": [],
   "source": [
    "use_entid = pd.DataFrame(base_info.entid.unique())"
   ]
  },
  {
   "cell_type": "code",
   "execution_count": 38,
   "metadata": {},
   "outputs": [
    {
     "name": "stdout",
     "output_type": "stream",
     "text": [
      "col_entid, na_percent0.00, na_percent_risk0.00, [0.00,0.00,0.00,0.00]\n",
      "col_honor_num, na_percent1.00, na_percent_risk1.00, [1.00,1.00,0.98,1.00]\n",
      "col_illegad_num, na_percent1.00, na_percent_risk1.00, [1.00,1.00,0.99,1.00]\n",
      "col_yea_sub, na_percent0.96, na_percent_risk1.00, [1.00,0.98,1.00,1.00]\n",
      "col_web_dum, na_percent0.00, na_percent_risk0.00, [0.00,0.00,0.00,0.00]\n",
      "col_ENTTYPE, na_percent0.00, na_percent_risk0.00, [0.00,0.00,0.00,0.00]\n",
      "col_INDUSTRYPHY, na_percent0.00, na_percent_risk0.00, [0.00,0.00,0.00,0.00]\n",
      "col_REGCAP, na_percent0.04, na_percent_risk0.03, [0.00,0.16,0.06,0.03]\n",
      "col_REGCAPCUR, na_percent0.07, na_percent_risk0.10, [0.06,0.12,0.04,0.10]\n",
      "col_RECCAP, na_percent0.23, na_percent_risk0.14, [0.02,0.20,0.16,0.15]\n",
      "col_PARNUM, na_percent0.90, na_percent_risk0.88, [0.96,0.92,0.91,0.87]\n",
      "col_LIMPARNUM, na_percent0.90, na_percent_risk0.88, [0.96,0.88,0.89,0.87]\n",
      "col_PARFORM, na_percent0.91, na_percent_risk0.91, [0.98,0.86,0.88,0.91]\n",
      "col_EXENUM, na_percent0.81, na_percent_risk0.63, [0.53,0.76,0.91,0.62]\n",
      "col_brand_num, na_percent1.00, na_percent_risk1.00, [1.00,1.00,1.00,1.00]\n",
      "col_cancel_dum, na_percent0.00, na_percent_risk0.00, [0.00,0.00,0.00,0.00]\n",
      "col_certificate_num, na_percent0.85, na_percent_risk0.90, [0.94,0.80,0.61,0.92]\n",
      "col_tax_dum, na_percent0.00, na_percent_risk0.00, [0.00,0.00,0.00,0.00]\n",
      "['entid', 'web_dum', 'ENTTYPE', 'INDUSTRYPHY', 'REGCAP', 'REGCAPCUR', 'RECCAP', 'PARNUM', 'LIMPARNUM', 'EXENUM', 'cancel_dum', 'certificate_num', 'tax_dum']\n"
     ]
    }
   ],
   "source": [
    "base_info_cols = check_nan(base_info)"
   ]
  },
  {
   "cell_type": "code",
   "execution_count": 39,
   "metadata": {},
   "outputs": [],
   "source": [
    "base_info_features = base_info[base_info_cols]"
   ]
  },
  {
   "cell_type": "code",
   "execution_count": null,
   "metadata": {},
   "outputs": [],
   "source": [
    "# categerial: web_dum, ENTTYPE, INDUSTRYPHY, REGCAPCUR, tax_dum\n",
    "# fill_average: REGCAP, RECCAP \n",
    "base_info_features[\"REGCAP\"] = base_info_features[\"REGCAP\"].fillna(base_info_features[\"REGCAP\"].mean())\n",
    "base_info_features[\"RECCAP\"] = base_info_features[\"RECCAP\"].fillna(base_info_features[\"RECCAP\"].mean())\n",
    "# fill_unknown\n",
    "base_info_features[\"REGCAPCUR\"] = base_info_features[\"REGCAPCUR\"].fillna(\"unknown\")\n",
    "# fill_zero: PARNUM, LIMPARNUM,certificate_num\n",
    "base_info_features[\"PARNUM\"] = base_info_features[\"PARNUM\"].fillna(0)\n",
    "base_info_features[\"LIMPARNUM\"] = base_info_features[\"LIMPARNUM\"].fillna(0)\n",
    "base_info_features[\"EXENUM\"] = base_info_features[\"LIMPARNUM\"].fillna(0)\n",
    "base_info_features[\"certificate_num\"] = base_info_features[\"certificate_num\"].fillna(0)"
   ]
  },
  {
   "cell_type": "code",
   "execution_count": 49,
   "metadata": {},
   "outputs": [
    {
     "name": "stdout",
     "output_type": "stream",
     "text": [
      "col_entid, na_percent0.00, na_percent_risk0.00, [0.00,0.00,0.00,0.00]\n",
      "col_web_dum, na_percent0.00, na_percent_risk0.00, [0.00,0.00,0.00,0.00]\n",
      "col_ENTTYPE, na_percent0.00, na_percent_risk0.00, [0.00,0.00,0.00,0.00]\n",
      "col_INDUSTRYPHY, na_percent0.00, na_percent_risk0.00, [0.00,0.00,0.00,0.00]\n",
      "col_REGCAP, na_percent0.00, na_percent_risk0.00, [0.00,0.00,0.00,0.00]\n",
      "col_REGCAPCUR, na_percent0.00, na_percent_risk0.00, [0.00,0.00,0.00,0.00]\n",
      "col_RECCAP, na_percent0.00, na_percent_risk0.00, [0.00,0.00,0.00,0.00]\n",
      "col_PARNUM, na_percent0.00, na_percent_risk0.00, [0.00,0.00,0.00,0.00]\n",
      "col_LIMPARNUM, na_percent0.00, na_percent_risk0.00, [0.00,0.00,0.00,0.00]\n",
      "col_EXENUM, na_percent0.00, na_percent_risk0.00, [0.00,0.00,0.00,0.00]\n",
      "col_cancel_dum, na_percent0.00, na_percent_risk0.00, [0.00,0.00,0.00,0.00]\n",
      "col_certificate_num, na_percent0.00, na_percent_risk0.00, [0.00,0.00,0.00,0.00]\n",
      "col_tax_dum, na_percent0.00, na_percent_risk0.00, [0.00,0.00,0.00,0.00]\n",
      "['entid', 'web_dum', 'ENTTYPE', 'INDUSTRYPHY', 'REGCAP', 'REGCAPCUR', 'RECCAP', 'PARNUM', 'LIMPARNUM', 'EXENUM', 'cancel_dum', 'certificate_num', 'tax_dum']\n"
     ]
    }
   ],
   "source": [
    "base_info_cols = check_nan(base_info_features)"
   ]
  },
  {
   "cell_type": "code",
   "execution_count": 239,
   "metadata": {},
   "outputs": [],
   "source": [
    "base_info_features.to_csv(\"./trainning_data/corporate_attributes/company_base_info_new.csv\")"
   ]
  },
  {
   "cell_type": "code",
   "execution_count": 31,
   "metadata": {},
   "outputs": [
    {
     "data": {
      "text/plain": [
       "entid                int64\n",
       "web_dum              int64\n",
       "ENTTYPE              int64\n",
       "INDUSTRYPHY          int64\n",
       "REGCAP             float64\n",
       "REGCAPCUR          float64\n",
       "RECCAP             float64\n",
       "PARNUM             float64\n",
       "LIMPARNUM          float64\n",
       "EXENUM             float64\n",
       "cancel_dum           int64\n",
       "certificate_num    float64\n",
       "tax_dum              int64\n",
       "dtype: object"
      ]
     },
     "execution_count": 31,
     "metadata": {},
     "output_type": "execute_result"
    }
   ],
   "source": [
    "#统一categrical，数值类变换， 分箱子（离散化）进行预测。"
   ]
  },
  {
   "cell_type": "code",
   "execution_count": 50,
   "metadata": {},
   "outputs": [],
   "source": [
    "# company_ar\n",
    "# categorical: BUSST\n",
    "# todo \n",
    "# categorical：员工数量分箱\n",
    "# 员工数量是否出现减少"
   ]
  },
  {
   "cell_type": "code",
   "execution_count": 51,
   "metadata": {},
   "outputs": [],
   "source": [
    "company_ar = pd.read_csv(\"./trainning_data/corporate_attributes/company_ar.csv\")"
   ]
  },
  {
   "cell_type": "code",
   "execution_count": 64,
   "metadata": {},
   "outputs": [],
   "source": [
    "company_ar[\"EMPNUM\"] = company_ar[\"EMPNUM\"].fillna(0)\n",
    "company_ar[\"WOMEMPNUM\"] = company_ar[\"WOMEMPNUM\"].fillna(0)"
   ]
  },
  {
   "cell_type": "code",
   "execution_count": null,
   "metadata": {},
   "outputs": [],
   "source": [
    "# company_ar_socialfee.csv"
   ]
  },
  {
   "cell_type": "code",
   "execution_count": 240,
   "metadata": {},
   "outputs": [],
   "source": [
    "company_ar_assetsinfo = pd.read_csv(\"./trainning_data/corporate_attributes/company_ar_assetsinfo.csv\")"
   ]
  },
  {
   "cell_type": "code",
   "execution_count": 242,
   "metadata": {},
   "outputs": [
    {
     "name": "stdout",
     "output_type": "stream",
     "text": [
      "col_entid, na_percent0.00, na_percent_risk0.00, [0.00,0.00,0.00,0.00]\n",
      "col_ANCHEYEAR, na_percent0.00, na_percent_risk0.00, [0.00,0.00,0.00,0.00]\n",
      "col_ispublic, na_percent0.00, na_percent_risk0.00, [0.00,0.00,0.00,0.00]\n",
      "col_ASSGRO, na_percent0.09, na_percent_risk0.04, [0.00,0.00,0.12,0.03]\n",
      "col_LIAGRO, na_percent0.11, na_percent_risk0.04, [0.00,0.00,0.12,0.04]\n",
      "col_VENDINC, na_percent0.09, na_percent_risk0.02, [0.00,0.00,0.07,0.01]\n",
      "col_MAIBUSINC, na_percent0.10, na_percent_risk0.02, [0.00,0.00,0.09,0.01]\n",
      "col_PROGRO, na_percent0.14, na_percent_risk0.05, [0.00,0.00,0.13,0.04]\n",
      "col_NETINC, na_percent0.08, na_percent_risk0.01, [0.00,0.00,0.01,0.01]\n",
      "col_RATGRO, na_percent0.05, na_percent_risk0.01, [0.00,0.00,0.01,0.01]\n",
      "col_TOTEQU, na_percent0.13, na_percent_risk0.04, [0.00,0.00,0.13,0.04]\n",
      "['entid', 'ANCHEYEAR', 'ispublic', 'ASSGRO', 'LIAGRO', 'VENDINC', 'MAIBUSINC', 'PROGRO', 'NETINC', 'RATGRO', 'TOTEQU']\n"
     ]
    }
   ],
   "source": [
    "company_ar_assetsinfo_cols = check_nan(company_ar_assetsinfo)"
   ]
  },
  {
   "cell_type": "code",
   "execution_count": 246,
   "metadata": {},
   "outputs": [],
   "source": [
    "new_company_ar_assetsinfo = fillna_year(company_ar_assetsinfo, company_ar_assetsinfo_cols)"
   ]
  },
  {
   "cell_type": "code",
   "execution_count": 249,
   "metadata": {},
   "outputs": [],
   "source": [
    "new_company_ar_assetsinfo = pd.DataFrame(new_company_ar_assetsinfo)"
   ]
  },
  {
   "cell_type": "code",
   "execution_count": 252,
   "metadata": {},
   "outputs": [],
   "source": [
    "new_company_ar_assetsinfo.entid = new_company_ar_assetsinfo.entid.astype(int)"
   ]
  },
  {
   "cell_type": "code",
   "execution_count": 253,
   "metadata": {},
   "outputs": [],
   "source": [
    "new_company_ar_assetsinfo.to_csv(\"./trainning_data/revised_attribute/company_ar_assetsinfo_new.csv\")"
   ]
  },
  {
   "cell_type": "code",
   "execution_count": null,
   "metadata": {},
   "outputs": [],
   "source": [
    "#tax_info"
   ]
  },
  {
   "cell_type": "code",
   "execution_count": 140,
   "metadata": {},
   "outputs": [],
   "source": [
    "tax_year = pd.read_csv(\"./trainning_data/corporate_attributes/tax_year.csv\")\n",
    "tax_year_gourp_mean = tax_year.groupby(\"entid\").apply(lambda x: x.mean())"
   ]
  },
  {
   "cell_type": "code",
   "execution_count": 177,
   "metadata": {},
   "outputs": [],
   "source": [
    "tax_year_mean = tax_year.mean()"
   ]
  },
  {
   "cell_type": "code",
   "execution_count": 179,
   "metadata": {},
   "outputs": [
    {
     "data": {
      "text/plain": [
       "0.3693973872066549"
      ]
     },
     "execution_count": 179,
     "metadata": {},
     "output_type": "execute_result"
    }
   ],
   "source": [
    "tax_year_mean[\"profit_loss\"]"
   ]
  },
  {
   "cell_type": "code",
   "execution_count": 87,
   "metadata": {},
   "outputs": [
    {
     "name": "stdout",
     "output_type": "stream",
     "text": [
      "col_entid, na_percent0.00, na_percent_risk0.00, [0.00,0.00,0.00,0.00]\n",
      "col_year, na_percent0.00, na_percent_risk0.00, [0.00,0.00,0.00,0.00]\n",
      "col_islatest, na_percent0.00, na_percent_risk0.00, [0.00,0.00,0.00,0.00]\n",
      "col_profit_loss, na_percent0.00, na_percent_risk0.00, [0.00,0.00,0.00,0.00]\n",
      "col_revenue, na_percent0.10, na_percent_risk0.35, [0.09,0.26,0.45,0.35]\n",
      "col_sales_cost, na_percent0.17, na_percent_risk0.41, [0.21,0.66,0.95,0.38]\n",
      "col_sales_tax, na_percent0.18, na_percent_risk0.38, [0.13,0.44,0.68,0.37]\n",
      "col_sales_expense, na_percent0.24, na_percent_risk0.42, [0.21,0.54,1.16,0.39]\n",
      "col_G_expense, na_percent0.10, na_percent_risk0.17, [0.04,0.32,0.63,0.15]\n",
      "col_finance_expense, na_percent0.15, na_percent_risk0.25, [0.09,0.32,0.62,0.24]\n",
      "col_asset_devaluation_losses, na_percent0.36, na_percent_risk0.48, [0.23,1.04,1.49,0.42]\n",
      "col_fair_value_change, na_percent0.36, na_percent_risk0.49, [0.23,1.04,1.66,0.43]\n",
      "col_investment_income, na_percent0.36, na_percent_risk0.46, [0.23,0.98,1.34,0.41]\n",
      "col_operation_profit, na_percent0.08, na_percent_risk0.13, [0.04,0.24,0.16,0.12]\n",
      "col_non_operating_income, na_percent0.30, na_percent_risk0.43, [0.23,0.82,1.02,0.40]\n",
      "col_non_operating_expense, na_percent0.29, na_percent_risk0.39, [0.19,0.72,0.85,0.37]\n",
      "col_total_profit, na_percent0.08, na_percent_risk0.13, [0.04,0.24,0.16,0.12]\n",
      "col_assets, na_percent0.11, na_percent_risk0.10, [0.06,0.20,0.21,0.10]\n",
      "col_assets_re, na_percent0.11, na_percent_risk0.10, [0.06,0.20,0.21,0.10]\n",
      "col_payrol_expense, na_percent0.30, na_percent_risk0.44, [0.23,0.82,1.32,0.39]\n",
      "col_welfare_expenses, na_percent0.97, na_percent_risk1.37, [0.60,2.24,3.12,1.29]\n",
      "col_education_expenses, na_percent0.99, na_percent_risk1.39, [0.60,2.30,3.17,1.31]\n",
      "col_union_funds, na_percent0.99, na_percent_risk1.38, [0.60,2.36,3.21,1.30]\n",
      "col_ad_expenses, na_percent0.99, na_percent_risk1.39, [0.57,2.30,3.24,1.30]\n",
      "col_entertainment_expenses, na_percent0.95, na_percent_risk1.36, [0.57,2.20,3.01,1.28]\n",
      "col_assets_loss, na_percent1.00, na_percent_risk1.40, [0.60,2.36,3.29,1.31]\n",
      "col_asset_devaluation_allowance, na_percent1.00, na_percent_risk1.40, [0.60,2.38,3.26,1.31]\n",
      "col_main_business_income, na_percent0.36, na_percent_risk0.49, [0.23,1.04,1.67,0.43]\n",
      "col_main_business_cost, na_percent0.36, na_percent_risk0.49, [0.23,1.04,1.67,0.43]\n",
      "col_other_business_income, na_percent0.36, na_percent_risk0.49, [0.23,1.04,1.67,0.43]\n",
      "col_other_operating_cost, na_percent0.36, na_percent_risk0.49, [0.23,1.04,1.67,0.43]\n",
      "col_retained_profits, na_percent0.36, na_percent_risk0.49, [0.23,1.04,1.67,0.43]\n",
      "col_gross_profit, na_percent0.69, na_percent_risk1.27, [0.60,1.88,2.80,1.21]\n",
      "col_main_business_gross, na_percent0.71, na_percent_risk1.29, [0.60,1.92,2.88,1.22]\n",
      "col_income_tax_adjuste, na_percent0.72, na_percent_risk1.04, [0.40,1.58,1.85,1.01]\n",
      "col_income_taxable, na_percent0.82, na_percent_risk1.32, [0.57,1.92,2.68,1.27]\n",
      "col_incometax_taxable, na_percent0.82, na_percent_risk1.32, [0.57,1.88,2.68,1.27]\n",
      "col_incometax_amount, na_percent0.86, na_percent_risk1.34, [0.60,2.00,2.71,1.28]\n",
      "col_incometax_actual, na_percent0.18, na_percent_risk0.41, [0.21,0.56,1.00,0.39]\n",
      "['entid', 'year', 'islatest', 'profit_loss', 'revenue', 'sales_cost', 'sales_tax', 'sales_expense', 'G_expense', 'finance_expense', 'asset_devaluation_losses', 'fair_value_change', 'investment_income', 'operation_profit', 'non_operating_income', 'non_operating_expense', 'total_profit', 'assets', 'assets_re', 'payrol_expense', 'main_business_income', 'main_business_cost', 'other_business_income', 'other_operating_cost', 'retained_profits', 'gross_profit', 'main_business_gross', 'income_tax_adjuste', 'income_taxable', 'incometax_taxable', 'incometax_amount', 'incometax_actual']\n"
     ]
    }
   ],
   "source": [
    "tax_year_cols = check_nan(tax_year)"
   ]
  },
  {
   "cell_type": "code",
   "execution_count": 227,
   "metadata": {},
   "outputs": [],
   "source": [
    "new_cols = {}\n",
    "for tax_year_col in tax_year_cols:\n",
    "    new_cols[tax_year_col] = []"
   ]
  },
  {
   "cell_type": "code",
   "execution_count": 228,
   "metadata": {},
   "outputs": [],
   "source": [
    "for i in tax_year.index:\n",
    "    row = tax_year.loc[i]\n",
    "    for tax_year_col in tax_year_cols :\n",
    "        if np.isnan(row[tax_year_col]):\n",
    "            mean_row = tax_year_gourp_mean[tax_year_gourp_mean[\"entid\"] == row.entid]\n",
    "            if len(mean_row) == 1 and ~np.isnan(mean_row[tax_year_col].values[0]):\n",
    "                new_cols[tax_year_col].append(mean_row[tax_year_col].values[0])\n",
    "            else:\n",
    "                new_cols[tax_year_col].append(tax_year_mean[tax_year_col])\n",
    "        else:\n",
    "            new_cols[tax_year_col].append(row[tax_year_col])  "
   ]
  },
  {
   "cell_type": "code",
   "execution_count": 110,
   "metadata": {},
   "outputs": [],
   "source": [
    "tax_year_gourp_mean = tax_year.groupby(\"entid\").apply(lambda x: x.mean())"
   ]
  },
  {
   "cell_type": "code",
   "execution_count": 134,
   "metadata": {},
   "outputs": [
    {
     "data": {
      "text/plain": [
       "0"
      ]
     },
     "execution_count": 134,
     "metadata": {},
     "output_type": "execute_result"
    }
   ],
   "source": [
    "len(tax_year_gourp_mean[tax_year_gourp_mean[\"entid\"] == 1109606][\"revenue\"])"
   ]
  },
  {
   "cell_type": "code",
   "execution_count": 135,
   "metadata": {},
   "outputs": [],
   "source": [
    "tax_year = tax_year.groupby(\"entid\").count()[\"year\"] > 2"
   ]
  },
  {
   "cell_type": "code",
   "execution_count": 234,
   "metadata": {},
   "outputs": [],
   "source": [
    "new_tax_year = pd.DataFrame(new_cols)"
   ]
  },
  {
   "cell_type": "code",
   "execution_count": 235,
   "metadata": {},
   "outputs": [],
   "source": [
    "new_tax_year.entid = new_tax_year.entid.astype(int)"
   ]
  },
  {
   "cell_type": "code",
   "execution_count": 237,
   "metadata": {},
   "outputs": [],
   "source": [
    "new_tax_year.to_csv(\"./trainning_data/corporate_attributes/tax_year_new.csv\")"
   ]
  },
  {
   "cell_type": "code",
   "execution_count": 254,
   "metadata": {},
   "outputs": [],
   "source": [
    "# company_ar_socialfee.csv"
   ]
  },
  {
   "cell_type": "code",
   "execution_count": 259,
   "metadata": {},
   "outputs": [],
   "source": [
    "social_fee = pd.read_csv(\"./trainning_data/corporate_attributes/company_ar_socialfee.csv\")"
   ]
  },
  {
   "cell_type": "code",
   "execution_count": 260,
   "metadata": {},
   "outputs": [
    {
     "name": "stdout",
     "output_type": "stream",
     "text": [
      "col_entid, na_percent0.00, na_percent_risk0.00, [0.00,0.00,0.00,0.00]\n",
      "col_ispublic, na_percent0.96, na_percent_risk0.00, [0.00,0.00,0.00,0.00]\n",
      "col_ANCHEYEAR, na_percent0.96, na_percent_risk0.00, [0.00,0.00,0.00,0.00]\n",
      "col_so1, na_percent0.96, na_percent_risk0.00, [0.00,0.00,0.00,0.00]\n",
      "col_so2, na_percent0.96, na_percent_risk0.00, [0.00,0.00,0.00,0.00]\n",
      "col_so3, na_percent0.96, na_percent_risk0.00, [0.00,0.00,0.00,0.00]\n",
      "col_so4, na_percent0.96, na_percent_risk0.00, [0.00,0.00,0.00,0.00]\n",
      "col_so5, na_percent0.96, na_percent_risk0.00, [0.00,0.00,0.00,0.00]\n",
      "col_totalWagesSo1, na_percent0.96, na_percent_risk0.00, [0.00,0.00,0.00,0.00]\n",
      "col_totalWagesSo2, na_percent0.96, na_percent_risk0.00, [0.00,0.00,0.00,0.00]\n",
      "col_totalWagesSo3, na_percent0.96, na_percent_risk0.00, [0.00,0.00,0.00,0.00]\n",
      "col_totalWagesSo5, na_percent0.96, na_percent_risk0.00, [0.00,0.00,0.00,0.00]\n",
      "col_totalPaymentSo1, na_percent0.96, na_percent_risk0.00, [0.00,0.00,0.00,0.00]\n",
      "col_totalPaymentSo2, na_percent0.96, na_percent_risk0.00, [0.00,0.00,0.00,0.00]\n",
      "col_totalPaymentSo3, na_percent0.96, na_percent_risk0.00, [0.00,0.00,0.00,0.00]\n",
      "col_totalPaymentSo4, na_percent0.96, na_percent_risk0.00, [0.00,0.00,0.00,0.00]\n",
      "col_totalPaymentSo5, na_percent0.96, na_percent_risk0.00, [0.00,0.00,0.00,0.00]\n",
      "col_unPaidSocialInsSo1, na_percent0.96, na_percent_risk0.00, [0.00,0.00,0.00,0.00]\n",
      "col_unPaidSocialInsSo2, na_percent0.96, na_percent_risk0.00, [0.00,0.00,0.00,0.00]\n",
      "col_unPaidSocialInsSo3, na_percent0.96, na_percent_risk0.00, [0.00,0.00,0.00,0.00]\n",
      "col_unPaidSocialInsSo4, na_percent0.96, na_percent_risk0.00, [0.00,0.00,0.00,0.00]\n",
      "col_unPaidSocialInsSo5, na_percent0.96, na_percent_risk0.00, [0.00,0.00,0.00,0.00]\n",
      "col_honor_num, na_percent1.00, na_percent_risk0.17, [0.13,0.10,0.11,0.18]\n",
      "col_illegad_num, na_percent1.00, na_percent_risk0.17, [0.13,0.10,0.11,0.18]\n",
      "col_yea_sub, na_percent0.96, na_percent_risk0.17, [0.13,0.10,0.11,0.18]\n",
      "col_web_dum, na_percent0.04, na_percent_risk0.17, [0.13,0.10,0.11,0.18]\n",
      "col_ENTTYPE, na_percent0.04, na_percent_risk0.17, [0.13,0.10,0.11,0.18]\n",
      "col_INDUSTRYPHY, na_percent0.04, na_percent_risk0.17, [0.13,0.10,0.11,0.18]\n",
      "col_REGCAP, na_percent0.08, na_percent_risk0.17, [0.13,0.10,0.11,0.18]\n",
      "col_REGCAPCUR, na_percent0.10, na_percent_risk0.17, [0.13,0.10,0.11,0.18]\n",
      "col_RECCAP, na_percent0.28, na_percent_risk0.17, [0.13,0.10,0.11,0.18]\n",
      "col_PARNUM, na_percent0.91, na_percent_risk0.17, [0.13,0.10,0.11,0.18]\n",
      "col_LIMPARNUM, na_percent0.91, na_percent_risk0.17, [0.13,0.10,0.11,0.18]\n",
      "col_PARFORM, na_percent0.91, na_percent_risk0.17, [0.13,0.10,0.11,0.18]\n",
      "col_EXENUM, na_percent0.86, na_percent_risk0.17, [0.13,0.10,0.11,0.18]\n",
      "col_brand_num, na_percent1.00, na_percent_risk0.17, [0.13,0.10,0.11,0.18]\n",
      "col_cancel_dum, na_percent0.04, na_percent_risk0.17, [0.13,0.10,0.11,0.18]\n",
      "col_certificate_num, na_percent0.85, na_percent_risk0.17, [0.13,0.10,0.11,0.18]\n",
      "col_tax_dum, na_percent0.04, na_percent_risk0.17, [0.13,0.10,0.11,0.18]\n",
      "['entid', 'web_dum', 'ENTTYPE', 'INDUSTRYPHY', 'REGCAP', 'REGCAPCUR', 'RECCAP', 'EXENUM', 'cancel_dum', 'certificate_num', 'tax_dum']\n"
     ]
    }
   ],
   "source": [
    "social_fee_usecol = check_nan(social_fee)"
   ]
  },
  {
   "cell_type": "code",
   "execution_count": 261,
   "metadata": {},
   "outputs": [
    {
     "data": {
      "text/plain": [
       "10396"
      ]
     },
     "execution_count": 261,
     "metadata": {},
     "output_type": "execute_result"
    }
   ],
   "source": [
    "len(social_fee)"
   ]
  },
  {
   "cell_type": "code",
   "execution_count": null,
   "metadata": {},
   "outputs": [],
   "source": []
  }
 ],
 "metadata": {
  "kernelspec": {
   "display_name": "Python 3",
   "language": "python",
   "name": "python3"
  },
  "language_info": {
   "codemirror_mode": {
    "name": "ipython",
    "version": 3
   },
   "file_extension": ".py",
   "mimetype": "text/x-python",
   "name": "python",
   "nbconvert_exporter": "python",
   "pygments_lexer": "ipython3",
   "version": "3.7.6"
  }
 },
 "nbformat": 4,
 "nbformat_minor": 4
}
